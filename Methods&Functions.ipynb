{
 "cells": [
  {
   "cell_type": "markdown",
   "id": "1874fb92",
   "metadata": {},
   "source": [
    "# Functions \n",
    "* allows us to create a block of code that can be easily executed many times without re-writing the code\n",
    "* Return allows us to save the result in a variable"
   ]
  },
  {
   "cell_type": "code",
   "execution_count": 16,
   "id": "9d281e94",
   "metadata": {},
   "outputs": [],
   "source": [
    "def say_hello():\n",
    "    print('Hello')"
   ]
  },
  {
   "cell_type": "code",
   "execution_count": 17,
   "id": "edd90dcd",
   "metadata": {},
   "outputs": [
    {
     "name": "stdout",
     "output_type": "stream",
     "text": [
      "Hello\n"
     ]
    }
   ],
   "source": [
    "say_hello()"
   ]
  },
  {
   "cell_type": "code",
   "execution_count": 18,
   "id": "a4eba78c",
   "metadata": {},
   "outputs": [],
   "source": [
    "def say_hello(name):\n",
    "    print(f'Hello, {name}')"
   ]
  },
  {
   "cell_type": "code",
   "execution_count": 19,
   "id": "06a131ea",
   "metadata": {},
   "outputs": [
    {
     "name": "stdout",
     "output_type": "stream",
     "text": [
      "Hello, Eren\n"
     ]
    }
   ],
   "source": [
    "say_hello('Eren')"
   ]
  },
  {
   "cell_type": "code",
   "execution_count": 20,
   "id": "01c9a80e",
   "metadata": {},
   "outputs": [],
   "source": [
    "# If lets say you doubt that you will forget to pass the agrument then just do this\n",
    "def say_hello(name = 'User'):\n",
    "    print(f'Hello, {name}')"
   ]
  },
  {
   "cell_type": "code",
   "execution_count": 21,
   "id": "9bcc2ec3",
   "metadata": {},
   "outputs": [
    {
     "name": "stdout",
     "output_type": "stream",
     "text": [
      "Hello, User\n"
     ]
    }
   ],
   "source": [
    "say_hello()"
   ]
  },
  {
   "cell_type": "code",
   "execution_count": 22,
   "id": "cb122d5b",
   "metadata": {},
   "outputs": [],
   "source": [
    "# Return allows you to grab the result and save it, and print is used to just view the result\n",
    "\n",
    "def print_result(a, b):\n",
    "    print(a + b)"
   ]
  },
  {
   "cell_type": "code",
   "execution_count": 23,
   "id": "2890e452",
   "metadata": {},
   "outputs": [
    {
     "name": "stdout",
     "output_type": "stream",
     "text": [
      "3\n"
     ]
    }
   ],
   "source": [
    "# Notice how there is not OUT[8] below In[8], because print only views the result\n",
    "print_result(1, 2)"
   ]
  },
  {
   "cell_type": "code",
   "execution_count": 24,
   "id": "6bfef67c",
   "metadata": {},
   "outputs": [
    {
     "name": "stdout",
     "output_type": "stream",
     "text": [
      "3\n"
     ]
    }
   ],
   "source": [
    "res = print_result(1, 2)"
   ]
  },
  {
   "cell_type": "code",
   "execution_count": 25,
   "id": "7529e733",
   "metadata": {},
   "outputs": [
    {
     "data": {
      "text/plain": [
       "NoneType"
      ]
     },
     "execution_count": 25,
     "metadata": {},
     "output_type": "execute_result"
    }
   ],
   "source": [
    "# This is a NoneType meaning cant save the result to any variable\n",
    "type(res)"
   ]
  },
  {
   "cell_type": "code",
   "execution_count": 26,
   "id": "adb6aec9",
   "metadata": {},
   "outputs": [],
   "source": [
    "def return_result(a, b):\n",
    "    return a + b"
   ]
  },
  {
   "cell_type": "code",
   "execution_count": 27,
   "id": "d1a11b2e",
   "metadata": {},
   "outputs": [],
   "source": [
    "result = return_result(1, 2)"
   ]
  },
  {
   "cell_type": "code",
   "execution_count": 28,
   "id": "0ee05816",
   "metadata": {},
   "outputs": [
    {
     "data": {
      "text/plain": [
       "3"
      ]
     },
     "execution_count": 28,
     "metadata": {},
     "output_type": "execute_result"
    }
   ],
   "source": [
    "result"
   ]
  },
  {
   "cell_type": "code",
   "execution_count": 29,
   "id": "1b1da1db",
   "metadata": {},
   "outputs": [],
   "source": [
    "def is_even(num):\n",
    "    return num % 2 == 0"
   ]
  },
  {
   "cell_type": "code",
   "execution_count": 30,
   "id": "75fbf20d",
   "metadata": {},
   "outputs": [
    {
     "data": {
      "text/plain": [
       "False"
      ]
     },
     "execution_count": 30,
     "metadata": {},
     "output_type": "execute_result"
    }
   ],
   "source": [
    "is_even(3)"
   ]
  },
  {
   "cell_type": "code",
   "execution_count": 31,
   "id": "a93dc0b1",
   "metadata": {},
   "outputs": [],
   "source": [
    "def is_even_list(numls):\n",
    "    \n",
    "    # placeholder variables\n",
    "    even_number = []\n",
    "    \n",
    "    for x in numls:\n",
    "        if x % 2 == 0:\n",
    "            even_number.append(x)\n",
    "        else:\n",
    "            pass\n",
    "    return even_number"
   ]
  },
  {
   "cell_type": "markdown",
   "id": "ebb076d4",
   "metadata": {},
   "source": [
    "# Return will break out of the loop."
   ]
  },
  {
   "cell_type": "code",
   "execution_count": 32,
   "id": "8465e61e",
   "metadata": {},
   "outputs": [
    {
     "data": {
      "text/plain": [
       "[2, 4, 6]"
      ]
     },
     "execution_count": 32,
     "metadata": {},
     "output_type": "execute_result"
    }
   ],
   "source": [
    "is_even_list([1, 2, 4, 3, 6])"
   ]
  },
  {
   "cell_type": "code",
   "execution_count": 33,
   "id": "2dc19ba1",
   "metadata": {},
   "outputs": [
    {
     "data": {
      "text/plain": [
       "[]"
      ]
     },
     "execution_count": 33,
     "metadata": {},
     "output_type": "execute_result"
    }
   ],
   "source": [
    "is_even_list([1, 3])"
   ]
  },
  {
   "cell_type": "markdown",
   "id": "bffd3294",
   "metadata": {},
   "source": [
    "# Tuple unpacking with DEF "
   ]
  },
  {
   "cell_type": "code",
   "execution_count": 34,
   "id": "f1df5b32",
   "metadata": {},
   "outputs": [],
   "source": [
    "work_hours = [('X', 100), ('Y', 200), ('A', 1000), ('Z', 300)]"
   ]
  },
  {
   "cell_type": "code",
   "execution_count": 35,
   "id": "ca5b80e3",
   "metadata": {},
   "outputs": [],
   "source": [
    "def employees(work_hours):\n",
    "    \n",
    "    current_max = 0\n",
    "    employee_of_month = ''\n",
    "    \n",
    "    for employee, hours in work_hours:\n",
    "        if hours > current_max:\n",
    "            current_max = hours\n",
    "            employee_of_month = employee\n",
    "        else:\n",
    "            pass\n",
    "    return (employee_of_month, hours)\n",
    "    # return f'Hurray, the employee of the month is {employee_of_month} with {current_max}'"
   ]
  },
  {
   "cell_type": "code",
   "execution_count": 36,
   "id": "805591db",
   "metadata": {},
   "outputs": [
    {
     "data": {
      "text/plain": [
       "('A', 300)"
      ]
     },
     "execution_count": 36,
     "metadata": {},
     "output_type": "execute_result"
    }
   ],
   "source": [
    "employees(work_hours)"
   ]
  },
  {
   "cell_type": "code",
   "execution_count": 37,
   "id": "e4152a67",
   "metadata": {},
   "outputs": [
    {
     "name": "stdout",
     "output_type": "stream",
     "text": [
      "A\n"
     ]
    }
   ],
   "source": [
    "# We can save it to a variable or also separate it\n",
    "\n",
    "name, hours = employees(work_hours)\n",
    "print(name)"
   ]
  },
  {
   "cell_type": "markdown",
   "id": "80d08dde",
   "metadata": {},
   "source": [
    "# *args and *kwargs"
   ]
  },
  {
   "cell_type": "code",
   "execution_count": 38,
   "id": "25e3798b",
   "metadata": {},
   "outputs": [],
   "source": [
    "# args is used to pass as many number user wants to without defining it in function\n",
    "# ARGS returns a tuple\n",
    "\n",
    "def my_func(*args):\n",
    "    return sum(args) * 0.10"
   ]
  },
  {
   "cell_type": "code",
   "execution_count": 39,
   "id": "b6cba28a",
   "metadata": {},
   "outputs": [
    {
     "data": {
      "text/plain": [
       "9.0"
      ]
     },
     "execution_count": 39,
     "metadata": {},
     "output_type": "execute_result"
    }
   ],
   "source": [
    "# I can pass as many numbers as I want \n",
    "my_func(40, 50)"
   ]
  },
  {
   "cell_type": "code",
   "execution_count": 40,
   "id": "dbd407d0",
   "metadata": {},
   "outputs": [],
   "source": [
    "# Kwargs returns a dictionary\n",
    "\n",
    "def myfunc(**kwargs):\n",
    "    if 'Veggie' in kwargs:\n",
    "        return 'My fav veggie {}'.format(kwargs['Veggie'])\n",
    "    else:\n",
    "        print('No')"
   ]
  },
  {
   "cell_type": "code",
   "execution_count": 41,
   "id": "9a47bba5",
   "metadata": {},
   "outputs": [
    {
     "data": {
      "text/plain": [
       "'My fav veggie Potato'"
      ]
     },
     "execution_count": 41,
     "metadata": {},
     "output_type": "execute_result"
    }
   ],
   "source": [
    "myfunc(fruit = 'Apple', Veggie = 'Potato')"
   ]
  },
  {
   "cell_type": "code",
   "execution_count": 42,
   "id": "d2c0497b",
   "metadata": {},
   "outputs": [],
   "source": [
    "def myfu(*args):\n",
    "    l = []\n",
    "    for i in args:\n",
    "        if i % 2 == 0:\n",
    "            l.append(i)\n",
    "    return l"
   ]
  },
  {
   "cell_type": "code",
   "execution_count": 43,
   "id": "fe738c2e",
   "metadata": {},
   "outputs": [
    {
     "data": {
      "text/plain": [
       "[2, 4]"
      ]
     },
     "execution_count": 43,
     "metadata": {},
     "output_type": "execute_result"
    }
   ],
   "source": [
    "myfu(1, 2, 3, 4)"
   ]
  },
  {
   "cell_type": "markdown",
   "id": "1b09abbd-cc07-45db-9460-9d9fa4960444",
   "metadata": {},
   "source": [
    "#### Function for making even position alphabet capital letter and odd position small letter"
   ]
  },
  {
   "cell_type": "code",
   "execution_count": 44,
   "id": "bcdd7ec5",
   "metadata": {},
   "outputs": [],
   "source": [
    "def myfunc(t):\n",
    "    newls = ''\n",
    "    for i in range(0, len(t)):\n",
    "        if i % 2 == 0:\n",
    "            newls = newls + t[i].lower()\n",
    "        else:\n",
    "            newls = newls + t[i].upper()\n",
    "    return newls"
   ]
  },
  {
   "cell_type": "code",
   "execution_count": 45,
   "id": "3998bb20",
   "metadata": {},
   "outputs": [
    {
     "data": {
      "text/plain": [
       "'aNtHrOpOmOrPhIsM'"
      ]
     },
     "execution_count": 45,
     "metadata": {},
     "output_type": "execute_result"
    }
   ],
   "source": [
    "myfunc('Anthropomorphism')"
   ]
  },
  {
   "cell_type": "markdown",
   "id": "ff0e6498-5ca4-4e54-a3fb-74d8f50da6c1",
   "metadata": {},
   "source": [
    "#### Function for checking lesser of two given odd numbers using *args"
   ]
  },
  {
   "cell_type": "code",
   "execution_count": 46,
   "id": "3b285f27",
   "metadata": {},
   "outputs": [],
   "source": [
    "evennum = []\n",
    "oddnum = []\n",
    "\n",
    "def lesser_of_two_odds(*args):\n",
    "    for i in args:\n",
    "\n",
    "        if i % 2 == 0:\n",
    "            evennum.append(i)\n",
    "        elif i % 2 != 0:\n",
    "            oddnum.append(i)\n",
    "            return max(oddnum)\n",
    "        else:\n",
    "            pass\n",
    "\n",
    "    return min(evennum)"
   ]
  },
  {
   "cell_type": "code",
   "execution_count": 47,
   "id": "936a9e66",
   "metadata": {},
   "outputs": [
    {
     "data": {
      "text/plain": [
       "9"
      ]
     },
     "execution_count": 47,
     "metadata": {},
     "output_type": "execute_result"
    }
   ],
   "source": [
    "lesser_of_two_odds(9, 7)"
   ]
  },
  {
   "cell_type": "markdown",
   "id": "1e3fa1e3-0abc-454b-b957-1ffb3290a2a2",
   "metadata": {},
   "source": [
    "#### Check if twenty is present"
   ]
  },
  {
   "cell_type": "code",
   "execution_count": 48,
   "id": "61fb7dd7",
   "metadata": {},
   "outputs": [],
   "source": [
    "def makes_twenty(n1,n2):\n",
    "    \n",
    "    if n1 == 20 or n2 == 20:\n",
    "        return True\n",
    "    elif n1 + n2 == 20:\n",
    "        return True\n",
    "    else:\n",
    "        return False"
   ]
  },
  {
   "cell_type": "code",
   "execution_count": 49,
   "id": "805b33e8",
   "metadata": {},
   "outputs": [
    {
     "data": {
      "text/plain": [
       "False"
      ]
     },
     "execution_count": 49,
     "metadata": {},
     "output_type": "execute_result"
    }
   ],
   "source": [
    "makes_twenty(30, 10)"
   ]
  },
  {
   "cell_type": "code",
   "execution_count": 50,
   "id": "dd61a093",
   "metadata": {},
   "outputs": [],
   "source": [
    "def newword(n):\n",
    "    x = ''\n",
    "    for i in range(0, len(n)):\n",
    "        \n",
    "        if i == 0:\n",
    "            x = x + n[i].upper()\n",
    "        elif i == 3:\n",
    "            x = x + n[i].upper()\n",
    "        else:\n",
    "            x = x + n[i]\n",
    "    return x"
   ]
  },
  {
   "cell_type": "code",
   "execution_count": 51,
   "id": "adc0bd8a",
   "metadata": {},
   "outputs": [
    {
     "data": {
      "text/plain": [
       "'MacDonald'"
      ]
     },
     "execution_count": 51,
     "metadata": {},
     "output_type": "execute_result"
    }
   ],
   "source": [
    "newword('macdonald')"
   ]
  },
  {
   "cell_type": "code",
   "execution_count": 52,
   "id": "602cfbcc",
   "metadata": {},
   "outputs": [],
   "source": [
    "\n",
    "def myfunc(t):\n",
    "    newls = ''\n",
    "    for i in range(0, len(t)):\n",
    "        if i % 2 == 0:\n",
    "            newls = newls + t[i].lower()\n",
    "        else:\n",
    "            newls = newls + t[i].upper()\n",
    "    return newls"
   ]
  },
  {
   "cell_type": "code",
   "execution_count": 53,
   "id": "83dff6a5",
   "metadata": {},
   "outputs": [
    {
     "data": {
      "text/plain": [
       "'rOnAlDo'"
      ]
     },
     "execution_count": 53,
     "metadata": {},
     "output_type": "execute_result"
    }
   ],
   "source": [
    "myfunc('ronaldo')"
   ]
  },
  {
   "cell_type": "markdown",
   "id": "2786e216-419e-4752-9a4d-ca632f12d15c",
   "metadata": {},
   "source": [
    "#### Master yoda \n",
    "* returning the reverse of the sentence, just like Yoda"
   ]
  },
  {
   "cell_type": "code",
   "execution_count": 54,
   "id": "c00770f5",
   "metadata": {},
   "outputs": [],
   "source": [
    "def master_yoda(text):\n",
    "    \n",
    "    for i in text:\n",
    "        \n",
    "        x = text.split(' ')\n",
    "        x = x[::-1]\n",
    "        x = ' '.join(x)\n",
    "        \n",
    "    return x"
   ]
  },
  {
   "cell_type": "code",
   "execution_count": 55,
   "id": "64a3575c",
   "metadata": {},
   "outputs": [
    {
     "data": {
      "text/plain": [
       "'you are where'"
      ]
     },
     "execution_count": 55,
     "metadata": {},
     "output_type": "execute_result"
    }
   ],
   "source": [
    "master_yoda('where are you')"
   ]
  },
  {
   "cell_type": "markdown",
   "id": "fefd47ae-a6f6-4782-9297-38597e4b5f9f",
   "metadata": {},
   "source": [
    "#### Checking if a given number falls between the given range"
   ]
  },
  {
   "cell_type": "code",
   "execution_count": 56,
   "id": "a53bcf1f",
   "metadata": {},
   "outputs": [],
   "source": [
    "def theree(a):\n",
    "    \n",
    "    if a in range(90, 111):\n",
    "        print('True')\n",
    "    elif a in range(190, 211):\n",
    "        print('True')\n",
    "    else:\n",
    "        print('False')"
   ]
  },
  {
   "cell_type": "code",
   "execution_count": 57,
   "id": "b04983ff",
   "metadata": {},
   "outputs": [
    {
     "name": "stdout",
     "output_type": "stream",
     "text": [
      "False\n"
     ]
    }
   ],
   "source": [
    "theree(150)"
   ]
  },
  {
   "cell_type": "markdown",
   "id": "0717be39-fe6c-41d4-a69b-8f65ff4410c7",
   "metadata": {},
   "source": [
    "#### Function to repeat letter"
   ]
  },
  {
   "cell_type": "code",
   "execution_count": 58,
   "id": "7a23850b",
   "metadata": {},
   "outputs": [],
   "source": [
    "def paper_doll(text):\n",
    "    y = []\n",
    "    for i in text:\n",
    "        x = i * 3\n",
    "        y.append(x)\n",
    "        z = ''.join(y)\n",
    "    print(z)"
   ]
  },
  {
   "cell_type": "code",
   "execution_count": 59,
   "id": "69dc0942",
   "metadata": {},
   "outputs": [
    {
     "name": "stdout",
     "output_type": "stream",
     "text": [
      "YYYooolllooo\n"
     ]
    }
   ],
   "source": [
    "paper_doll('Yolo')"
   ]
  },
  {
   "cell_type": "markdown",
   "id": "6f6fe762-381c-4fb0-b3a6-ebbd573ffcbb",
   "metadata": {},
   "source": [
    "#### Check if sum of the given array is less than 21, sum shoulnot exceed 30"
   ]
  },
  {
   "cell_type": "code",
   "execution_count": 60,
   "id": "8a3f02ae",
   "metadata": {},
   "outputs": [
    {
     "name": "stdout",
     "output_type": "stream",
     "text": [
      "BUST\n"
     ]
    }
   ],
   "source": [
    "s = (9, 9, 9)\n",
    "if sum(s) <= 21:\n",
    "    print(sum(s))\n",
    "    \n",
    "elif 11 in s:\n",
    "    print(sum(s) - 10)\n",
    "    \n",
    "elif sum(s) > 21:\n",
    "    print('BUST')"
   ]
  },
  {
   "cell_type": "markdown",
   "id": "9d671b9d",
   "metadata": {},
   "source": [
    "# MAP, LAMBDA EXPRESSIONS AND FILTER"
   ]
  },
  {
   "cell_type": "code",
   "execution_count": 61,
   "id": "b13d28d9",
   "metadata": {},
   "outputs": [],
   "source": [
    "def func(nums):\n",
    "    return nums ** 2"
   ]
  },
  {
   "cell_type": "code",
   "execution_count": 62,
   "id": "bc47654f",
   "metadata": {},
   "outputs": [
    {
     "data": {
      "text/plain": [
       "[1, 4, 9]"
      ]
     },
     "execution_count": 62,
     "metadata": {},
     "output_type": "execute_result"
    }
   ],
   "source": [
    "nums = [1, 2, 3]\n",
    "list(map(func, nums))"
   ]
  },
  {
   "cell_type": "code",
   "execution_count": 63,
   "id": "60e9898c",
   "metadata": {},
   "outputs": [],
   "source": [
    "def func1(strng):\n",
    "    for i in strng:\n",
    "        if len(strng) % 2 == 0:\n",
    "            return 'EVEN'\n",
    "        else:\n",
    "            return strng[0]"
   ]
  },
  {
   "cell_type": "code",
   "execution_count": 64,
   "id": "9272d14b",
   "metadata": {},
   "outputs": [
    {
     "data": {
      "text/plain": [
       "['EVEN', 'EVEN', 'o']"
      ]
     },
     "execution_count": 64,
     "metadata": {},
     "output_type": "execute_result"
    }
   ],
   "source": [
    "names = ['andy', 'om', 'opm']\n",
    "list(map(func1, names))"
   ]
  },
  {
   "cell_type": "code",
   "execution_count": 65,
   "id": "1f337a9f",
   "metadata": {},
   "outputs": [],
   "source": [
    "def check_odd(numss):\n",
    "    return numss % 2 != 0"
   ]
  },
  {
   "cell_type": "code",
   "execution_count": 66,
   "id": "a6447728",
   "metadata": {},
   "outputs": [
    {
     "data": {
      "text/plain": [
       "[1, 3, 5, 7, 9]"
      ]
     },
     "execution_count": 66,
     "metadata": {},
     "output_type": "execute_result"
    }
   ],
   "source": [
    "number = range(0, 11)\n",
    "list(filter(check_odd, number))"
   ]
  },
  {
   "cell_type": "code",
   "execution_count": 67,
   "id": "f0fa4ab7",
   "metadata": {},
   "outputs": [
    {
     "data": {
      "text/plain": [
       "[0, 1, 4, 9, 16, 25, 36, 49, 64, 81, 100]"
      ]
     },
     "execution_count": 67,
     "metadata": {},
     "output_type": "execute_result"
    }
   ],
   "source": [
    "list(map(lambda num : num ** 2, number))"
   ]
  },
  {
   "cell_type": "code",
   "execution_count": 68,
   "id": "9ae8209f",
   "metadata": {},
   "outputs": [
    {
     "data": {
      "text/plain": [
       "[1, 3, 5, 7, 9]"
      ]
     },
     "execution_count": 68,
     "metadata": {},
     "output_type": "execute_result"
    }
   ],
   "source": [
    "list(filter(lambda oddn : oddn % 2 != 0, number))"
   ]
  },
  {
   "cell_type": "code",
   "execution_count": 69,
   "id": "f44d606f",
   "metadata": {},
   "outputs": [
    {
     "data": {
      "text/plain": [
       "['a', 'o', 'o']"
      ]
     },
     "execution_count": 69,
     "metadata": {},
     "output_type": "execute_result"
    }
   ],
   "source": [
    "list(map(lambda first_l : first_l[0], names))"
   ]
  },
  {
   "cell_type": "markdown",
   "id": "e25e8871",
   "metadata": {},
   "source": [
    "# LEGB Rule\n",
    "\n",
    "- Python follows this rule to assign a value to a variable :\n",
    "\n",
    "* 1] <b>L</b> - It checks if it is Locally defined\n",
    "* 2] <b>E</b> - If not locally then next is enclosing (def within a def)\n",
    "* 3] <b>G</b> - If not in L and E then it checks if it is globally defined\n",
    "* 4] <b>B</b> - If it is built-in"
   ]
  },
  {
   "cell_type": "code",
   "execution_count": 70,
   "id": "c2109aff",
   "metadata": {},
   "outputs": [],
   "source": [
    "def vol(radius):\n",
    "    return round((4/3 * (3.14 * radius ** 3)), 2)"
   ]
  },
  {
   "cell_type": "code",
   "execution_count": 71,
   "id": "ab65871a",
   "metadata": {},
   "outputs": [
    {
     "data": {
      "text/plain": [
       "33.49"
      ]
     },
     "execution_count": 71,
     "metadata": {},
     "output_type": "execute_result"
    }
   ],
   "source": [
    "vol(2)"
   ]
  },
  {
   "cell_type": "code",
   "execution_count": 72,
   "id": "91b567a4",
   "metadata": {},
   "outputs": [],
   "source": [
    "def inrange(num, low, high):\n",
    "        if num in range(low, high):\n",
    "            return f'{num} is in range of {low} and {high}'\n",
    "        else:\n",
    "            return f'{num} is not in range of {low} and {high}'"
   ]
  },
  {
   "cell_type": "code",
   "execution_count": 73,
   "id": "229ac115",
   "metadata": {},
   "outputs": [
    {
     "data": {
      "text/plain": [
       "'5 is in range of 2 and 7'"
      ]
     },
     "execution_count": 73,
     "metadata": {},
     "output_type": "execute_result"
    }
   ],
   "source": [
    "inrange(5, 2, 7)"
   ]
  },
  {
   "cell_type": "code",
   "execution_count": 74,
   "id": "54629ea2",
   "metadata": {},
   "outputs": [
    {
     "data": {
      "text/plain": [
       "'6 is not in range of 7 and 11'"
      ]
     },
     "execution_count": 74,
     "metadata": {},
     "output_type": "execute_result"
    }
   ],
   "source": [
    "inrange(6, 7, 11)"
   ]
  },
  {
   "cell_type": "code",
   "execution_count": 75,
   "id": "229ff823",
   "metadata": {},
   "outputs": [],
   "source": [
    "def ran_bool(num,low,high):\n",
    "        return num in range(low, high)"
   ]
  },
  {
   "cell_type": "code",
   "execution_count": 76,
   "id": "3f2cc961",
   "metadata": {},
   "outputs": [
    {
     "data": {
      "text/plain": [
       "True"
      ]
     },
     "execution_count": 76,
     "metadata": {},
     "output_type": "execute_result"
    }
   ],
   "source": [
    "ran_bool(3, 1, 5)"
   ]
  },
  {
   "cell_type": "code",
   "execution_count": 77,
   "id": "e7b9306a",
   "metadata": {},
   "outputs": [
    {
     "data": {
      "text/plain": [
       "False"
      ]
     },
     "execution_count": 77,
     "metadata": {},
     "output_type": "execute_result"
    }
   ],
   "source": [
    "ran_bool(4, 5, 8)"
   ]
  },
  {
   "cell_type": "markdown",
   "id": "8da80b41-e595-4bbb-b81b-be30cf66c7b8",
   "metadata": {},
   "source": [
    "#### Find upper and lower letters in a given string"
   ]
  },
  {
   "cell_type": "code",
   "execution_count": 78,
   "id": "0b39dfb9",
   "metadata": {},
   "outputs": [],
   "source": [
    "def up_lows(strng):\n",
    "    \n",
    "    up = []\n",
    "    lows = []\n",
    "    \n",
    "    for i in range(0, len(strng)):\n",
    "        \n",
    "        if strng[i].isupper():\n",
    "            up.append(strng[i])\n",
    "            \n",
    "        elif strng[i].islower():\n",
    "            lows.append(strng[i])\n",
    "            \n",
    "    print(strng)\n",
    "    print(f'No. of Uppercase characters : {len(up)}')\n",
    "    print(f'No. of Lowercase characters : {len(lows)}')"
   ]
  },
  {
   "cell_type": "code",
   "execution_count": 79,
   "id": "cabb0ee5",
   "metadata": {},
   "outputs": [
    {
     "name": "stdout",
     "output_type": "stream",
     "text": [
      "Potato\n",
      "No. of Uppercase characters : 1\n",
      "No. of Lowercase characters : 5\n"
     ]
    }
   ],
   "source": [
    "up_lows('Potato')"
   ]
  },
  {
   "cell_type": "markdown",
   "id": "427aca19-23c8-40e3-b7fd-0a3ab70713cc",
   "metadata": {},
   "source": [
    "#### Set() to remove repeated numbers"
   ]
  },
  {
   "cell_type": "code",
   "execution_count": 80,
   "id": "6585078b",
   "metadata": {},
   "outputs": [],
   "source": [
    "def unique_list(l):\n",
    "    \n",
    "    return list(set(l))"
   ]
  },
  {
   "cell_type": "code",
   "execution_count": 81,
   "id": "c1b56b7e",
   "metadata": {},
   "outputs": [
    {
     "data": {
      "text/plain": [
       "[1, 2, 3, 4, 5]"
      ]
     },
     "execution_count": 81,
     "metadata": {},
     "output_type": "execute_result"
    }
   ],
   "source": [
    "unique_list([1,1,1,1,2,2,3,3,3,3,4,5])"
   ]
  },
  {
   "cell_type": "markdown",
   "id": "e498bfe8-4d2f-45b5-8184-8c3b3bfdd5c2",
   "metadata": {},
   "source": [
    "#### Multiply the numbers in a given array and return the number"
   ]
  },
  {
   "cell_type": "code",
   "execution_count": 82,
   "id": "a4a16aa9",
   "metadata": {},
   "outputs": [],
   "source": [
    "def multiply(lst):\n",
    "    \n",
    "    x = 1\n",
    "    \n",
    "    for i in lst:\n",
    "        if i != 0:\n",
    "            x = x * i\n",
    "    return x  "
   ]
  },
  {
   "cell_type": "code",
   "execution_count": 83,
   "id": "f9fd2170",
   "metadata": {},
   "outputs": [
    {
     "data": {
      "text/plain": [
       "-24"
      ]
     },
     "execution_count": 83,
     "metadata": {},
     "output_type": "execute_result"
    }
   ],
   "source": [
    "ll = [1, 2, 3, -4]\n",
    "multiply(ll)"
   ]
  },
  {
   "cell_type": "markdown",
   "id": "2322669b-9bfe-4e52-a38a-9a5c1c376520",
   "metadata": {},
   "source": [
    "#### Check if Palindrome"
   ]
  },
  {
   "cell_type": "code",
   "execution_count": 84,
   "id": "591a59c6",
   "metadata": {},
   "outputs": [],
   "source": [
    "def palindrome(st):\n",
    "    \n",
    "    st2 = st.replace(' ', '')\n",
    "    st2 = st[::-1]\n",
    "    for x, y in zip(st, st2):\n",
    "        return x == y"
   ]
  },
  {
   "cell_type": "code",
   "execution_count": 85,
   "id": "b5760b7b",
   "metadata": {},
   "outputs": [
    {
     "data": {
      "text/plain": [
       "True"
      ]
     },
     "execution_count": 85,
     "metadata": {},
     "output_type": "execute_result"
    }
   ],
   "source": [
    "lll = 'madam'\n",
    "palindrome(lll)"
   ]
  },
  {
   "cell_type": "code",
   "execution_count": 86,
   "id": "7ffff25c",
   "metadata": {},
   "outputs": [
    {
     "data": {
      "text/plain": [
       "True"
      ]
     },
     "execution_count": 86,
     "metadata": {},
     "output_type": "execute_result"
    }
   ],
   "source": [
    "palindrome('kayak')"
   ]
  },
  {
   "cell_type": "code",
   "execution_count": 87,
   "id": "b38e14fd",
   "metadata": {},
   "outputs": [
    {
     "data": {
      "text/plain": [
       "'hellohow'"
      ]
     },
     "execution_count": 87,
     "metadata": {},
     "output_type": "execute_result"
    }
   ],
   "source": [
    "# Replace method\n",
    "stt = 'hello how'\n",
    "stt.replace(' ', '')"
   ]
  },
  {
   "cell_type": "code",
   "execution_count": 88,
   "id": "c8166c61",
   "metadata": {},
   "outputs": [],
   "source": [
    "pn = \"The quick brown fox jumps over the lazy dog\"\n",
    "pnl = pn.replace(' ', '')\n",
    "pnlo = pnl.lower()"
   ]
  },
  {
   "cell_type": "code",
   "execution_count": 89,
   "id": "d7b27827",
   "metadata": {},
   "outputs": [
    {
     "data": {
      "text/plain": [
       "'abcdefghijklmnopqrstuvwxyz'"
      ]
     },
     "execution_count": 89,
     "metadata": {},
     "output_type": "execute_result"
    }
   ],
   "source": [
    "# Sorted, set and join the letters\n",
    "a = sorted(set(pnlo))\n",
    "aa = ''.join(a)\n",
    "aa"
   ]
  },
  {
   "cell_type": "markdown",
   "id": "09296338-fcaf-46f6-8493-3a75d203ceed",
   "metadata": {},
   "source": [
    "#### Pangram"
   ]
  },
  {
   "cell_type": "code",
   "execution_count": 90,
   "id": "57c71b88",
   "metadata": {},
   "outputs": [],
   "source": [
    "# Pangram are sentences which contain every alphabet atleast once in them.\n",
    "\n",
    "import string\n",
    "\n",
    "def ispangram(str1, alphabet=string.ascii_lowercase):\n",
    "    \n",
    "    str1 = str1.replace(' ', '')\n",
    "    str1 = str1.lower()\n",
    "    str2 = sorted(set(str1))\n",
    "    a = ''.join(str2)\n",
    "    \n",
    "    return a == alphabet"
   ]
  },
  {
   "cell_type": "markdown",
   "id": "21b176bf-3517-4155-a81d-c5859f352a94",
   "metadata": {},
   "source": [
    "#### Second method to check upper and lower letters and returning count of them"
   ]
  },
  {
   "cell_type": "code",
   "execution_count": 91,
   "id": "b4652966",
   "metadata": {},
   "outputs": [],
   "source": [
    "def up_lows(num):\n",
    "    \n",
    "    d = {'upper' : 0, 'lower' : 0}\n",
    "    \n",
    "    for i in num:\n",
    "        if i.isupper():\n",
    "            d['upper'] += 1\n",
    "        elif i.islower():\n",
    "            d['lower'] += 1\n",
    "        else:\n",
    "            pass\n",
    "        \n",
    "    print(num)\n",
    "    print(f'No. of Uppercase characters : {d[\"upper\"]}')\n",
    "    print(f'No. of Lowercase characters : {d[\"lower\"]}')"
   ]
  },
  {
   "cell_type": "code",
   "execution_count": 92,
   "id": "caf260d9",
   "metadata": {},
   "outputs": [
    {
     "name": "stdout",
     "output_type": "stream",
     "text": [
      "Hello Mr. SchwertarzJ, how are you this fine Tuesday?\n",
      "No. of Uppercase characters : 5\n",
      "No. of Lowercase characters : 37\n"
     ]
    }
   ],
   "source": [
    "s = 'Hello Mr. SchwertarzJ, how are you this fine Tuesday?'\n",
    "up_lows(s)"
   ]
  },
  {
   "cell_type": "markdown",
   "id": "c039b719-d0c0-4a98-aa3f-5122d6bdde9c",
   "metadata": {},
   "source": [
    "#### Finding Unique number without set()"
   ]
  },
  {
   "cell_type": "code",
   "execution_count": 93,
   "id": "c72b6c67",
   "metadata": {},
   "outputs": [],
   "source": [
    "def unique_list(num):\n",
    "    \n",
    "    x = []\n",
    "    \n",
    "    for i in num:\n",
    "        if i not in x:\n",
    "            x.append(i)\n",
    "    return x"
   ]
  },
  {
   "cell_type": "code",
   "execution_count": 94,
   "id": "55dc1f7b",
   "metadata": {},
   "outputs": [
    {
     "data": {
      "text/plain": [
       "[1, 2, 3, 4]"
      ]
     },
     "execution_count": 94,
     "metadata": {},
     "output_type": "execute_result"
    }
   ],
   "source": [
    "unique_list([1,1,1,1,2,3,4])"
   ]
  }
 ],
 "metadata": {
  "kernelspec": {
   "display_name": "Python 3 (ipykernel)",
   "language": "python",
   "name": "python3"
  },
  "language_info": {
   "codemirror_mode": {
    "name": "ipython",
    "version": 3
   },
   "file_extension": ".py",
   "mimetype": "text/x-python",
   "name": "python",
   "nbconvert_exporter": "python",
   "pygments_lexer": "ipython3",
   "version": "3.10.12"
  }
 },
 "nbformat": 4,
 "nbformat_minor": 5
}
