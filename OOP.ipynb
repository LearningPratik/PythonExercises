{
 "cells": [
  {
   "cell_type": "code",
   "execution_count": 1,
   "id": "da1b00ac",
   "metadata": {},
   "outputs": [],
   "source": [
    "# When creating a class use = CamelCasing\n",
    "class Dog():\n",
    "    \n",
    "    # __init__ = it is an instance of your class\n",
    "    # self = making a connection of class with the instance\n",
    "    # breed = like a characteristics of a class - arguments or parameters\n",
    "    def __init__(self, breed, fromwhere, name):\n",
    "        \n",
    "        # Attributes donot use parantheses as they just give us the information and it doesnot execute\n",
    "        # self.breed = attribute of our instance\n",
    "        \n",
    "        # Using self.name and fromwhere, we made a connection with the arguments\n",
    "        self.breed = breed\n",
    "        self.fromwhere = fromwhere\n",
    "        self.name = name\n",
    "        \n",
    "        \n",
    "        \n",
    "        # Methods = operations/actions of our object - here is dog and it needs to be executes (uses parantheses)\n",
    "        \n",
    "    def bark(self):\n",
    "        print(f'WOOF!! My name is {self.name} and I am from {self.fromwhere}')"
   ]
  },
  {
   "cell_type": "code",
   "execution_count": 2,
   "id": "6a397119",
   "metadata": {},
   "outputs": [],
   "source": [
    "mydog = Dog('lab','India','Rusky')"
   ]
  },
  {
   "cell_type": "code",
   "execution_count": 3,
   "id": "21c23d2b",
   "metadata": {},
   "outputs": [
    {
     "data": {
      "text/plain": [
       "__main__.Dog"
      ]
     },
     "execution_count": 3,
     "metadata": {},
     "output_type": "execute_result"
    }
   ],
   "source": [
    "type(mydog)"
   ]
  },
  {
   "cell_type": "code",
   "execution_count": 4,
   "id": "885ea1b1",
   "metadata": {},
   "outputs": [
    {
     "data": {
      "text/plain": [
       "'Rusky'"
      ]
     },
     "execution_count": 4,
     "metadata": {},
     "output_type": "execute_result"
    }
   ],
   "source": [
    "mydog.name"
   ]
  },
  {
   "cell_type": "code",
   "execution_count": 5,
   "id": "c86442c4",
   "metadata": {},
   "outputs": [
    {
     "name": "stdout",
     "output_type": "stream",
     "text": [
      "WOOF!! My name is Rusky and I am from India\n"
     ]
    }
   ],
   "source": [
    "mydog.bark()"
   ]
  },
  {
   "cell_type": "code",
   "execution_count": 6,
   "id": "525f9677",
   "metadata": {},
   "outputs": [],
   "source": [
    "class Circle1():\n",
    "    \n",
    "    # This value is always true, it is a class object attribute\n",
    "    pi = 3.14\n",
    "    \n",
    "    # We are making an instance for our object --> parameters (information)\n",
    "    # Self - making a class and instance connection\n",
    "    # radius - passing parameters for our instance\n",
    "    def __init__(self, radius):\n",
    "        \n",
    "        # declaring the name\n",
    "        self.radius = radius\n",
    "        \n",
    "    # Making a method which will be executed by the user\n",
    "    # Passing a SELF in method means - we are connecting it to the class or instance\n",
    "    def get_volume(self, precision):\n",
    "        return round((4/3) * (Circle1.pi * self.radius**3), precision)\n",
    "    \n",
    "    # passing a parameter with a default value, in case user donot want to enter a value\n",
    "    def get_circumference(self, precision = 1):\n",
    "        return round(2 * self.radius * Circle1.pi, precision)"
   ]
  },
  {
   "cell_type": "code",
   "execution_count": 7,
   "id": "ed3d9b3d",
   "metadata": {},
   "outputs": [],
   "source": [
    "mycircle = Circle1(2)"
   ]
  },
  {
   "cell_type": "code",
   "execution_count": 8,
   "id": "e3a1258b",
   "metadata": {},
   "outputs": [
    {
     "data": {
      "text/plain": [
       "33.49"
      ]
     },
     "execution_count": 8,
     "metadata": {},
     "output_type": "execute_result"
    }
   ],
   "source": [
    "mycircle.get_volume(2)"
   ]
  },
  {
   "cell_type": "code",
   "execution_count": 9,
   "id": "89c99cbc",
   "metadata": {},
   "outputs": [
    {
     "data": {
      "text/plain": [
       "12.56"
      ]
     },
     "execution_count": 9,
     "metadata": {},
     "output_type": "execute_result"
    }
   ],
   "source": [
    "mycircle.get_circumference(2)"
   ]
  },
  {
   "cell_type": "markdown",
   "id": "309da06a",
   "metadata": {},
   "source": [
    "# Inheritance\n",
    "\n",
    "* We can use methods of another class "
   ]
  },
  {
   "cell_type": "code",
   "execution_count": 10,
   "id": "75cd9cb4",
   "metadata": {},
   "outputs": [],
   "source": [
    "class Car():\n",
    "    \n",
    "    def __init__(self):\n",
    "        print('Old class')\n",
    "        \n",
    "    def who(self):\n",
    "        \n",
    "        return \"I'm a car\"\n",
    "    \n",
    "    def where(self):\n",
    "        \n",
    "        return \"I'am from Germany\""
   ]
  },
  {
   "cell_type": "code",
   "execution_count": 11,
   "id": "05cdaabb",
   "metadata": {},
   "outputs": [],
   "source": [
    "# lets say, we want to use Car() in this new class\n",
    "\n",
    "class Porshe(Car):\n",
    "    \n",
    "    def __init__(self):\n",
    "        Car.__init__(self)\n",
    "        \n",
    "    def who(self):\n",
    "        \n",
    "        # Here we are overwriting a Car's method\n",
    "        return \"I'm a PORSHE\""
   ]
  },
  {
   "cell_type": "code",
   "execution_count": 12,
   "id": "37ff9c43",
   "metadata": {},
   "outputs": [
    {
     "name": "stdout",
     "output_type": "stream",
     "text": [
      "Old class\n"
     ]
    }
   ],
   "source": [
    "mycar = Car()"
   ]
  },
  {
   "cell_type": "code",
   "execution_count": 13,
   "id": "f26f6309",
   "metadata": {},
   "outputs": [
    {
     "data": {
      "text/plain": [
       "\"I'am from Germany\""
      ]
     },
     "execution_count": 13,
     "metadata": {},
     "output_type": "execute_result"
    }
   ],
   "source": [
    "mycar.where()"
   ]
  },
  {
   "cell_type": "code",
   "execution_count": 14,
   "id": "0894afec",
   "metadata": {},
   "outputs": [
    {
     "data": {
      "text/plain": [
       "\"I'm a car\""
      ]
     },
     "execution_count": 14,
     "metadata": {},
     "output_type": "execute_result"
    }
   ],
   "source": [
    "mycar.who()"
   ]
  },
  {
   "cell_type": "code",
   "execution_count": 15,
   "id": "1d49bf53",
   "metadata": {},
   "outputs": [
    {
     "name": "stdout",
     "output_type": "stream",
     "text": [
      "Old class\n"
     ]
    }
   ],
   "source": [
    "newcar = Porshe()"
   ]
  },
  {
   "cell_type": "code",
   "execution_count": 16,
   "id": "9259744f",
   "metadata": {},
   "outputs": [
    {
     "data": {
      "text/plain": [
       "\"I'am from Germany\""
      ]
     },
     "execution_count": 16,
     "metadata": {},
     "output_type": "execute_result"
    }
   ],
   "source": [
    "newcar.where()"
   ]
  },
  {
   "cell_type": "code",
   "execution_count": 17,
   "id": "dbdb7ecd",
   "metadata": {},
   "outputs": [
    {
     "data": {
      "text/plain": [
       "\"I'm a PORSHE\""
      ]
     },
     "execution_count": 17,
     "metadata": {},
     "output_type": "execute_result"
    }
   ],
   "source": [
    "newcar.who()"
   ]
  },
  {
   "cell_type": "markdown",
   "id": "d26024a9",
   "metadata": {},
   "source": [
    "# Polymorphism\n",
    "\n",
    "It means two classes having same methods \n",
    "\n",
    "for ex : two different file ( class .csv and .pdf having open method)\n",
    "\n",
    "           or 2 animals having same characteristics"
   ]
  },
  {
   "cell_type": "markdown",
   "id": "9e6eee8b",
   "metadata": {},
   "source": [
    "# Magic / Dunder Methods\n",
    "\n",
    "* These are methods which we use when we want to use any built-in method with our class method"
   ]
  },
  {
   "cell_type": "code",
   "execution_count": 18,
   "id": "6ccf6b97",
   "metadata": {},
   "outputs": [],
   "source": [
    "class Book():\n",
    "    \n",
    "    def __init__(self, book, author, pages):\n",
    "        \n",
    "        self.book = book\n",
    "        self.author = author\n",
    "        self.pages = pages\n",
    "        \n",
    "    # So in order to work with built-in these magic methods\n",
    "    \n",
    "    def __len__(self):\n",
    "        return self.pages\n",
    "    \n",
    "    def __str__(self):\n",
    "        return f'{self.book}, {self.author}'"
   ]
  },
  {
   "cell_type": "code",
   "execution_count": 19,
   "id": "065ee872",
   "metadata": {},
   "outputs": [],
   "source": [
    "mybook = Book('hello', 'xyz', 100)"
   ]
  },
  {
   "cell_type": "code",
   "execution_count": 20,
   "id": "dd759512",
   "metadata": {},
   "outputs": [
    {
     "data": {
      "text/plain": [
       "100"
      ]
     },
     "execution_count": 20,
     "metadata": {},
     "output_type": "execute_result"
    }
   ],
   "source": [
    "len(mybook)\n",
    "\n",
    "# Notice how we can use buil-it method with our class"
   ]
  },
  {
   "cell_type": "code",
   "execution_count": 21,
   "id": "ed7098a3",
   "metadata": {},
   "outputs": [
    {
     "data": {
      "text/plain": [
       "100"
      ]
     },
     "execution_count": 21,
     "metadata": {},
     "output_type": "execute_result"
    }
   ],
   "source": [
    "# After adding __len__ (magic module) it is working\n",
    "len(mybook)"
   ]
  },
  {
   "cell_type": "code",
   "execution_count": 22,
   "id": "77ab439d",
   "metadata": {},
   "outputs": [
    {
     "name": "stdout",
     "output_type": "stream",
     "text": [
      "hello, xyz\n"
     ]
    }
   ],
   "source": [
    "print(mybook)\n",
    "\n",
    "# Notice it always cant give the result as it is in string"
   ]
  },
  {
   "cell_type": "code",
   "execution_count": 23,
   "id": "33a41cab",
   "metadata": {},
   "outputs": [
    {
     "name": "stdout",
     "output_type": "stream",
     "text": [
      "hello, xyz\n"
     ]
    }
   ],
   "source": [
    "print(mybook)"
   ]
  },
  {
   "cell_type": "code",
   "execution_count": 26,
   "id": "3eaea427",
   "metadata": {},
   "outputs": [],
   "source": [
    "class BankAcc():\n",
    "    \n",
    "    def __init__(self, owner, balance, password):\n",
    "        \n",
    "        self.owner = owner\n",
    "        self.balance = balance\n",
    "        self.password = password\n",
    "        \n",
    "    def __str__(self):\n",
    "        \n",
    "        return f'Account holder : {self.owner} \\nBalance : Rs.{self.balance}'\n",
    "    \n",
    "    def deposit(self, deposit):\n",
    "        \n",
    "        \n",
    "        self.balance = self.balance + deposit \n",
    "        print('Deposited')\n",
    "    \n",
    "    def withdrawal(self, withdrawal):\n",
    "        \n",
    "        if withdrawal > self.balance:\n",
    "            return 'Not enough balance'\n",
    "        else:\n",
    "            self.balance = self.balance - withdrawal\n",
    "            print('Withdrew')\n",
    "            \n",
    "    def change_password(self):\n",
    "        \n",
    "        new_password = input('Type your new password : ')\n",
    "        self.password = new_password"
   ]
  },
  {
   "cell_type": "code",
   "execution_count": 27,
   "id": "a028810e",
   "metadata": {},
   "outputs": [],
   "source": [
    "acc = BankAcc('Shinzo', 0, '1234')"
   ]
  },
  {
   "cell_type": "code",
   "execution_count": 28,
   "id": "6c16b151",
   "metadata": {},
   "outputs": [
    {
     "name": "stdout",
     "output_type": "stream",
     "text": [
      "Account holder : Shinzo \n",
      "Balance : Rs.0\n"
     ]
    }
   ],
   "source": [
    "print(acc)"
   ]
  },
  {
   "cell_type": "code",
   "execution_count": 29,
   "id": "3550bc7c",
   "metadata": {},
   "outputs": [
    {
     "data": {
      "text/plain": [
       "'Shinzo'"
      ]
     },
     "execution_count": 29,
     "metadata": {},
     "output_type": "execute_result"
    }
   ],
   "source": [
    "acc.owner"
   ]
  },
  {
   "cell_type": "code",
   "execution_count": 30,
   "id": "3a0bc8b5",
   "metadata": {},
   "outputs": [
    {
     "data": {
      "text/plain": [
       "0"
      ]
     },
     "execution_count": 30,
     "metadata": {},
     "output_type": "execute_result"
    }
   ],
   "source": [
    "acc.balance"
   ]
  },
  {
   "cell_type": "code",
   "execution_count": 31,
   "id": "9fd23288",
   "metadata": {},
   "outputs": [
    {
     "data": {
      "text/plain": [
       "'1234'"
      ]
     },
     "execution_count": 31,
     "metadata": {},
     "output_type": "execute_result"
    }
   ],
   "source": [
    "acc.password"
   ]
  },
  {
   "cell_type": "code",
   "execution_count": 32,
   "id": "420166ae",
   "metadata": {},
   "outputs": [
    {
     "name": "stdout",
     "output_type": "stream",
     "text": [
      "Deposited\n"
     ]
    }
   ],
   "source": [
    "acc.deposit(100)"
   ]
  },
  {
   "cell_type": "code",
   "execution_count": 33,
   "id": "38db51d0",
   "metadata": {},
   "outputs": [
    {
     "data": {
      "text/plain": [
       "100"
      ]
     },
     "execution_count": 33,
     "metadata": {},
     "output_type": "execute_result"
    }
   ],
   "source": [
    "acc.balance"
   ]
  },
  {
   "cell_type": "code",
   "execution_count": 34,
   "id": "b1d53cd2",
   "metadata": {},
   "outputs": [
    {
     "data": {
      "text/plain": [
       "'Not enough balance'"
      ]
     },
     "execution_count": 34,
     "metadata": {},
     "output_type": "execute_result"
    }
   ],
   "source": [
    "acc.withdrawal(200)"
   ]
  },
  {
   "cell_type": "code",
   "execution_count": 35,
   "id": "34917bbe",
   "metadata": {},
   "outputs": [
    {
     "name": "stdout",
     "output_type": "stream",
     "text": [
      "Withdrew\n"
     ]
    }
   ],
   "source": [
    "acc.withdrawal(50)"
   ]
  },
  {
   "cell_type": "code",
   "execution_count": 36,
   "id": "599f98d4",
   "metadata": {},
   "outputs": [
    {
     "data": {
      "text/plain": [
       "50"
      ]
     },
     "execution_count": 36,
     "metadata": {},
     "output_type": "execute_result"
    }
   ],
   "source": [
    "acc.balance"
   ]
  },
  {
   "cell_type": "code",
   "execution_count": 37,
   "id": "925d27ec",
   "metadata": {},
   "outputs": [
    {
     "name": "stdin",
     "output_type": "stream",
     "text": [
      "Type your new password :  1234\n"
     ]
    }
   ],
   "source": [
    "acc.change_password()"
   ]
  },
  {
   "cell_type": "code",
   "execution_count": 38,
   "id": "cd08f0ab",
   "metadata": {},
   "outputs": [
    {
     "data": {
      "text/plain": [
       "'1234'"
      ]
     },
     "execution_count": 38,
     "metadata": {},
     "output_type": "execute_result"
    }
   ],
   "source": [
    "acc.password"
   ]
  },
  {
   "cell_type": "markdown",
   "id": "06a31588-c120-4f5c-8d56-b60bc3719386",
   "metadata": {},
   "source": [
    "# Classes\n",
    "* <b>Classes</b>     --> are used to check objects\n",
    "* <b>Objects</b>     --> attributes and methods\n",
    "* <b>Attributes</b>  --> data about the objects (ex : color, height, weight, speed)\n",
    "* <b>Methods</b>     --> things objects can do (ex : change color, change speed etc..)\n",
    "* <b>OOP</b>         --> bundles data with functionality to create objects which interact with each other"
   ]
  },
  {
   "cell_type": "code",
   "execution_count": 39,
   "id": "7f12dc74-b164-441c-89d2-bce8db8281cb",
   "metadata": {},
   "outputs": [],
   "source": [
    "class man:\n",
    "\n",
    "    def __init__(self): # passing in attributes \n",
    "        self.height = 190 # to create attributes self. is used and assigning it to value of our\n",
    "        self.weight = 78\n",
    "        # If you want to declare a value and want to use it throughout like pie's value is fixed at 3.14\n",
    "    def words(self):\n",
    "        return f'My height is - {self.height} and my weight is - {self.weight}'\n",
    "        \n",
    "myman = man()"
   ]
  },
  {
   "cell_type": "code",
   "execution_count": 40,
   "id": "168a5fdf-d6ff-4518-a8e8-36ad5e6a7d14",
   "metadata": {},
   "outputs": [
    {
     "data": {
      "text/plain": [
       "'My height is - 190 and my weight is - 78'"
      ]
     },
     "execution_count": 40,
     "metadata": {},
     "output_type": "execute_result"
    }
   ],
   "source": [
    "myman.words()"
   ]
  },
  {
   "cell_type": "markdown",
   "id": "74b8e49a-5432-43c7-baed-bc117a4e5a99",
   "metadata": {},
   "source": [
    "# Terminology\n",
    "1] Methods - functions inside a class\n",
    "\n",
    "2] Attributes - variables with a self prefix\n",
    "\n",
    "3] Objects - variables inside a class"
   ]
  },
  {
   "cell_type": "code",
   "execution_count": 41,
   "id": "6b6609cf-955a-4fee-badf-f1f3cce647c5",
   "metadata": {},
   "outputs": [],
   "source": [
    "class greeting:\n",
    "\n",
    "    def __init__(self):\n",
    "        self.first = 'hello'\n",
    "\n",
    "    # Whenever you call a class, it executes whatever is initiaized, if a method is passed there it will execute it as well\n",
    "\n",
    "    def name(self, name):\n",
    "        return f'{self.first}, {name}'\n",
    "\n",
    "    # functions are those which are directly used : name()\n",
    "    # methods are those which are used with objects : greeting.name"
   ]
  },
  {
   "cell_type": "code",
   "execution_count": 42,
   "id": "823d010e-9cde-435f-b4c5-a196a638af08",
   "metadata": {},
   "outputs": [],
   "source": [
    "greet = greeting()"
   ]
  },
  {
   "cell_type": "code",
   "execution_count": 43,
   "id": "30dd588a-3130-4fea-a7c8-f599c33c5e7e",
   "metadata": {},
   "outputs": [
    {
     "data": {
      "text/plain": [
       "'hello'"
      ]
     },
     "execution_count": 43,
     "metadata": {},
     "output_type": "execute_result"
    }
   ],
   "source": [
    "greet.first"
   ]
  },
  {
   "cell_type": "code",
   "execution_count": 44,
   "id": "9921d205-8a6c-4c80-8244-ebba9b863c0d",
   "metadata": {},
   "outputs": [
    {
     "data": {
      "text/plain": [
       "'hello, Pratik'"
      ]
     },
     "execution_count": 44,
     "metadata": {},
     "output_type": "execute_result"
    }
   ],
   "source": [
    "greet.name('Pratik') # Here we calling it separately, but we also can add it in __init__.."
   ]
  },
  {
   "cell_type": "code",
   "execution_count": 45,
   "id": "42cb31e9-7e7c-405b-bee7-0f4ae9b29dc6",
   "metadata": {},
   "outputs": [],
   "source": [
    "class guitar:\n",
    "\n",
    "    def __init__(self):\n",
    "        self.n_strings = 6\n",
    "        self.play()\n",
    "        # Here, we initialize the method in __init__\n",
    "\n",
    "    def play(self):\n",
    "        print(f'sui.........')"
   ]
  },
  {
   "cell_type": "code",
   "execution_count": 46,
   "id": "fc3f8100-4a99-424d-b068-20c0b2f91387",
   "metadata": {},
   "outputs": [
    {
     "name": "stdout",
     "output_type": "stream",
     "text": [
      "sui.........\n"
     ]
    }
   ],
   "source": [
    "guit = guitar()"
   ]
  },
  {
   "cell_type": "code",
   "execution_count": 47,
   "id": "d386d375-849b-4785-b28f-605dcd4b8cd2",
   "metadata": {},
   "outputs": [],
   "source": [
    "# Inheritance - lets say we want access all the data, methods of some other class so, there we use inheritance\n",
    "# this is how we pass class name to copy its method\n",
    "class acousticGuitar(guitar):\n",
    "    def __init__(self):\n",
    "        super().__init__()\n",
    "        \n",
    "        # our child class inherited all from parent class.\n",
    "        # if we want to use attributes value of parent class attribute then we use super()\n",
    "        self.n_strings = 8"
   ]
  },
  {
   "cell_type": "code",
   "execution_count": 48,
   "id": "92415382-ca3b-4ee3-a7a7-85e1d5ec4ee2",
   "metadata": {},
   "outputs": [
    {
     "name": "stdout",
     "output_type": "stream",
     "text": [
      "sui.........\n"
     ]
    }
   ],
   "source": [
    "acoustic = acousticGuitar() # Here we accessed parent classes value to child class"
   ]
  },
  {
   "cell_type": "code",
   "execution_count": 49,
   "id": "198faa01-e645-4344-9cf2-0bec59da6a34",
   "metadata": {},
   "outputs": [
    {
     "data": {
      "text/plain": [
       "8"
      ]
     },
     "execution_count": 49,
     "metadata": {},
     "output_type": "execute_result"
    }
   ],
   "source": [
    "acoustic.n_strings # Here it changes child classes value now check parent class"
   ]
  },
  {
   "cell_type": "code",
   "execution_count": 50,
   "id": "df600112-cb12-47f0-b7af-a40a12b39419",
   "metadata": {},
   "outputs": [
    {
     "data": {
      "text/plain": [
       "6"
      ]
     },
     "execution_count": 50,
     "metadata": {},
     "output_type": "execute_result"
    }
   ],
   "source": [
    "guit.n_strings # Here we can see it didnt change the value of parent's"
   ]
  },
  {
   "cell_type": "markdown",
   "id": "654978f4-a769-4916-8711-1ce29825a49f",
   "metadata": {},
   "source": [
    "# OOP - Keith Galli"
   ]
  },
  {
   "cell_type": "markdown",
   "id": "d501b5d3-dd5c-4997-a6a3-587a1daa091a",
   "metadata": {},
   "source": [
    "# CODE SHOULD BE :\n",
    "* Safe from bugs\n",
    "* Easy to understand\n",
    "* Ready for change"
   ]
  },
  {
   "cell_type": "code",
   "execution_count": 20,
   "id": "b9da5b5e-605c-4aec-ba46-1540ba9f7635",
   "metadata": {},
   "outputs": [],
   "source": [
    "class Vehicle:\n",
    "    def __init__(self, wheels, color, fuel):\n",
    "        self.wheels = wheels\n",
    "        self.color = color\n",
    "        self.fuel = fuel\n",
    "        self.company = 'Honda'\n",
    "\n",
    "    def greeting(self): # --> self here to access classes attribute\n",
    "        print(f'Welcome to {self.company}')\n",
    "\n",
    "\n",
    "# Inheritance \n",
    "class ElectricVehicle(Vehicle):\n",
    "    def __init__(self, fuel='Electric'):\n",
    "        super().__init__(4, 'Blue', fuel)\n",
    "        # super() means - take some arguments from parent class\n",
    "\n",
    "    # method overriding, taking parent class's method and applying it to child class with some modification\n",
    "    def greeting(self):\n",
    "        super().greeting()\n",
    "        print('Charge your excitement with EV')\n",
    "\n",
    "# Inheritance \n",
    "class HydrogenVehicle(Vehicle):\n",
    "    def __init__(self, fuel='Hydrogen'):\n",
    "        super().__init__(4, 'White', fuel)\n",
    "\n",
    "    # method overriding, taking parent class's method and applying it to child class with some modification\n",
    "    def greeting(self):\n",
    "        super().greeting()\n",
    "        print(f'Go green with hydrogen and leave no pollution behind...')"
   ]
  },
  {
   "cell_type": "code",
   "execution_count": 16,
   "id": "385deac9-6518-402a-ad64-022273392ffb",
   "metadata": {},
   "outputs": [],
   "source": [
    "EV = ElectricVehicle()"
   ]
  },
  {
   "cell_type": "code",
   "execution_count": 17,
   "id": "3afa2aa1-0d9b-4870-b3af-84a986cf5624",
   "metadata": {},
   "outputs": [
    {
     "data": {
      "text/plain": [
       "'Blue'"
      ]
     },
     "execution_count": 17,
     "metadata": {},
     "output_type": "execute_result"
    }
   ],
   "source": [
    "EV.color"
   ]
  },
  {
   "cell_type": "code",
   "execution_count": 18,
   "id": "4cc0e6e9-0d6d-4b2e-8e2b-bc075778be04",
   "metadata": {},
   "outputs": [
    {
     "name": "stdout",
     "output_type": "stream",
     "text": [
      "Welcome to Honda\n",
      "Charge your excitement with EV\n"
     ]
    }
   ],
   "source": [
    "EV.greeting()"
   ]
  },
  {
   "cell_type": "code",
   "execution_count": 21,
   "id": "8cca369b-792a-4d60-bc79-d2d2df205eea",
   "metadata": {},
   "outputs": [],
   "source": [
    "HV = HydrogenVehicle()"
   ]
  },
  {
   "cell_type": "code",
   "execution_count": 23,
   "id": "862ec44f-1fc9-4cad-a29c-bebb1b43edca",
   "metadata": {},
   "outputs": [
    {
     "name": "stdout",
     "output_type": "stream",
     "text": [
      "Welcome to Honda\n",
      "Go green with hydrogen and leave no pollution behind...\n"
     ]
    }
   ],
   "source": [
    "HV.greeting()"
   ]
  },
  {
   "cell_type": "code",
   "execution_count": null,
   "id": "12a2e464-a66a-4066-af7d-88ad1a2366e7",
   "metadata": {},
   "outputs": [],
   "source": []
  },
  {
   "cell_type": "code",
   "execution_count": null,
   "id": "3c3980a0-9b30-47fd-9376-1d00e9054d5a",
   "metadata": {},
   "outputs": [],
   "source": []
  },
  {
   "cell_type": "code",
   "execution_count": 45,
   "id": "c610d0e2-8848-4f54-89f9-4e809a993e78",
   "metadata": {},
   "outputs": [],
   "source": [
    "import matplotlib.pyplot as plt\n",
    "\n",
    "class Point:\n",
    "    def __init__(self, x, y):\n",
    "        self.x = x\n",
    "        self.y = y\n",
    "\n",
    "    # opeartor overloading\n",
    "    def __add__(self, other):\n",
    "        # The isinstance() function returns True if the specified object is of the specified type, otherwise False.\n",
    "        if isinstance(other, Point):   \n",
    "            x = self.x + other.x\n",
    "            y = self.y + other.y\n",
    "            return Point(x,y)\n",
    "\n",
    "        else:\n",
    "            x = self.x + other\n",
    "            y = self.y + other\n",
    "            return Point(x, y)\n",
    "        \n",
    "    def plot(self):\n",
    "        plt.scatter(self.x, self.y)\n",
    "        plt.show()"
   ]
  },
  {
   "cell_type": "code",
   "execution_count": 46,
   "id": "ce2e008e-a88f-4497-a727-eb0c39b24bf6",
   "metadata": {},
   "outputs": [],
   "source": [
    "x = Point(2, 6)"
   ]
  },
  {
   "cell_type": "code",
   "execution_count": 47,
   "id": "539efd68-5700-47a9-8d41-3f5ce222190f",
   "metadata": {},
   "outputs": [],
   "source": [
    "y = Point(4, 4)"
   ]
  },
  {
   "cell_type": "code",
   "execution_count": 48,
   "id": "01673fed-8039-4904-96a9-a10fd7bcd223",
   "metadata": {},
   "outputs": [],
   "source": [
    "z = (x + y)"
   ]
  },
  {
   "cell_type": "code",
   "execution_count": 49,
   "id": "1f2242a6-2896-4452-8f34-67f99a8a4e1e",
   "metadata": {},
   "outputs": [
    {
     "name": "stdout",
     "output_type": "stream",
     "text": [
      "6 10\n"
     ]
    }
   ],
   "source": [
    "print(z.x, z.y)"
   ]
  },
  {
   "cell_type": "code",
   "execution_count": 50,
   "id": "e7b8f4a8-1a39-49c8-9173-bffd07935607",
   "metadata": {},
   "outputs": [],
   "source": [
    "d = y + 10"
   ]
  },
  {
   "cell_type": "code",
   "execution_count": null,
   "id": "f3dd4068-2f93-4d6f-9395-cca1259d8083",
   "metadata": {},
   "outputs": [],
   "source": []
  },
  {
   "cell_type": "code",
   "execution_count": 86,
   "id": "e151381f-5b9e-4577-b5c6-bc4e564d77e1",
   "metadata": {},
   "outputs": [],
   "source": [
    "class employee:\n",
    "\n",
    "    def __init__(self, first, last):\n",
    "        self.first = first\n",
    "        self.last = last\n",
    "        self.email = f'{first.lower()}.{last.lower()}@gmail.com'\n",
    "\n",
    "    def fullname(self, st):\n",
    "        print(f'{st}, {self.first} {self.last}')"
   ]
  },
  {
   "cell_type": "code",
   "execution_count": 87,
   "id": "31d8ae7b-6de1-4e4d-aadf-d43bf8f18d50",
   "metadata": {},
   "outputs": [],
   "source": [
    "e = employee('Pratik', 'Raut')"
   ]
  },
  {
   "cell_type": "code",
   "execution_count": 88,
   "id": "10b9014a-f3da-49ea-a8bb-6b6aeda5fb04",
   "metadata": {},
   "outputs": [
    {
     "data": {
      "text/plain": [
       "'Pratik'"
      ]
     },
     "execution_count": 88,
     "metadata": {},
     "output_type": "execute_result"
    }
   ],
   "source": [
    "e.first"
   ]
  },
  {
   "cell_type": "code",
   "execution_count": 89,
   "id": "ec209086-fc4f-4cee-a230-d1257417e59f",
   "metadata": {},
   "outputs": [
    {
     "data": {
      "text/plain": [
       "'Raut'"
      ]
     },
     "execution_count": 89,
     "metadata": {},
     "output_type": "execute_result"
    }
   ],
   "source": [
    "e.last"
   ]
  },
  {
   "cell_type": "code",
   "execution_count": 90,
   "id": "5611697e-b97a-49ba-acda-e45b14af7750",
   "metadata": {},
   "outputs": [
    {
     "name": "stdout",
     "output_type": "stream",
     "text": [
      "Good morning, Pratik Raut\n"
     ]
    }
   ],
   "source": [
    "e.fullname('Good morning')"
   ]
  },
  {
   "cell_type": "code",
   "execution_count": 91,
   "id": "c0d9fbe3-b99a-4472-95d9-45c8d8bc30a1",
   "metadata": {},
   "outputs": [
    {
     "data": {
      "text/plain": [
       "'pratik.raut@gmail.com'"
      ]
     },
     "execution_count": 91,
     "metadata": {},
     "output_type": "execute_result"
    }
   ],
   "source": [
    "e.email"
   ]
  },
  {
   "cell_type": "code",
   "execution_count": 93,
   "id": "dfbe15e5-8dcd-4c90-bfe1-9a44e6af1fe9",
   "metadata": {},
   "outputs": [
    {
     "name": "stdout",
     "output_type": "stream",
     "text": [
      "True\n"
     ]
    }
   ],
   "source": [
    "m = 3\n",
    "n = 2\n",
    "if n in range(m):\n",
    "    print(True)\n",
    "else:\n",
    "    print(False)"
   ]
  },
  {
   "cell_type": "code",
   "execution_count": null,
   "id": "68707340-1af8-4a20-a3eb-a68c9da27afd",
   "metadata": {},
   "outputs": [],
   "source": []
  }
 ],
 "metadata": {
  "kernelspec": {
   "display_name": "Python 3 (ipykernel)",
   "language": "python",
   "name": "python3"
  },
  "language_info": {
   "codemirror_mode": {
    "name": "ipython",
    "version": 3
   },
   "file_extension": ".py",
   "mimetype": "text/x-python",
   "name": "python",
   "nbconvert_exporter": "python",
   "pygments_lexer": "ipython3",
   "version": "3.10.12"
  }
 },
 "nbformat": 4,
 "nbformat_minor": 5
}
