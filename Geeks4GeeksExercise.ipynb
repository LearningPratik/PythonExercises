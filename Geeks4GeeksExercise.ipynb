{
 "cells": [
  {
   "cell_type": "markdown",
   "id": "9ff68ce3-3031-4474-9eb7-22807bff80c0",
   "metadata": {},
   "source": [
    "#### Replacing the item at position"
   ]
  },
  {
   "cell_type": "code",
   "execution_count": 69,
   "id": "24ccae55-a92a-4b43-8fea-898318cb77e0",
   "metadata": {},
   "outputs": [],
   "source": [
    "def rever(new_l):\n",
    "\n",
    "    new_l[0], new_l[-1] = new_l[-1], new_l[0]\n",
    "\n",
    "    return new_l"
   ]
  },
  {
   "cell_type": "code",
   "execution_count": 70,
   "id": "bc6845c6-6530-4391-a79f-10a2efb22819",
   "metadata": {},
   "outputs": [
    {
     "data": {
      "text/plain": [
       "[24, 35, 9, 56, 12]"
      ]
     },
     "execution_count": 70,
     "metadata": {},
     "output_type": "execute_result"
    }
   ],
   "source": [
    "new_l = [12, 35, 9, 56, 24]\n",
    "rever(new_l)"
   ]
  },
  {
   "cell_type": "code",
   "execution_count": 71,
   "id": "4954b97d-674b-42f1-9ad0-cbae96490b21",
   "metadata": {},
   "outputs": [],
   "source": [
    "# Swap two elements\n",
    "\n",
    "def swapList(l, p1, p2):\n",
    "\n",
    "    if p1 and p2 not in range(len(l)):\n",
    "        return 'No'\n",
    "    else:\n",
    "        l[p1], l[p2] = l[p2], l[p1]\n",
    "    return l"
   ]
  },
  {
   "cell_type": "code",
   "execution_count": 72,
   "id": "b799f2f0-b20b-404d-991d-a6b45fbddf39",
   "metadata": {},
   "outputs": [
    {
     "data": {
      "text/plain": [
       "[90, 65, 19, 23]"
      ]
     },
     "execution_count": 72,
     "metadata": {},
     "output_type": "execute_result"
    }
   ],
   "source": [
    "t = [23, 65, 19, 90]\n",
    "swapList(t, 0, 3)"
   ]
  },
  {
   "cell_type": "code",
   "execution_count": 73,
   "id": "04cacd76-9ceb-48a9-bf1b-9869575a938a",
   "metadata": {},
   "outputs": [],
   "source": [
    "# Swap using tuple variable\n",
    "\n",
    "def swapTup(l, p1, p2):\n",
    "\n",
    "    get = l[p1], l[p2]\n",
    "    l[p2], l[p1] = get\n",
    "\n",
    "    return l"
   ]
  },
  {
   "cell_type": "code",
   "execution_count": 74,
   "id": "3ae96de9-39b6-44e5-b1b4-3da7a8479fd1",
   "metadata": {},
   "outputs": [
    {
     "data": {
      "text/plain": [
       "[1, 5, 3, 4, 2]"
      ]
     },
     "execution_count": 74,
     "metadata": {},
     "output_type": "execute_result"
    }
   ],
   "source": [
    "q = [1, 2, 3, 4, 5]\n",
    "swapTup(q, 1, 4)"
   ]
  },
  {
   "cell_type": "markdown",
   "id": "be947b92-ecad-46ec-a310-403c0523dda3",
   "metadata": {},
   "source": [
    "#### Find length"
   ]
  },
  {
   "cell_type": "code",
   "execution_count": 75,
   "id": "4a8ea030-a37b-4471-943d-403ed20afd4d",
   "metadata": {},
   "outputs": [],
   "source": [
    "# Find Length of a list\n",
    "\n",
    "def findLen(l):\n",
    "    count = 0\n",
    "    for i in l:\n",
    "        count+=1\n",
    "        \n",
    "    return count"
   ]
  },
  {
   "cell_type": "code",
   "execution_count": 76,
   "id": "52d9e611-c074-4592-aa98-e7d4ab74a804",
   "metadata": {},
   "outputs": [
    {
     "data": {
      "text/plain": [
       "5"
      ]
     },
     "execution_count": 76,
     "metadata": {},
     "output_type": "execute_result"
    }
   ],
   "source": [
    "findLen(q)"
   ]
  },
  {
   "cell_type": "markdown",
   "id": "9cf631ed-7a87-4196-8c11-bbbbb8062145",
   "metadata": {},
   "source": [
    "#### Max Number"
   ]
  },
  {
   "cell_type": "code",
   "execution_count": 77,
   "id": "0bac24e2-6a84-4e67-b834-3bcc31b58806",
   "metadata": {},
   "outputs": [],
   "source": [
    "# Find max number\n",
    "\n",
    "def maxN(a, b):\n",
    "\n",
    "    if a > b:\n",
    "        return a\n",
    "    else:\n",
    "        return b"
   ]
  },
  {
   "cell_type": "code",
   "execution_count": 78,
   "id": "cb548574-aed4-4122-8e70-4d8d129d5873",
   "metadata": {},
   "outputs": [
    {
     "data": {
      "text/plain": [
       "5"
      ]
     },
     "execution_count": 78,
     "metadata": {},
     "output_type": "execute_result"
    }
   ],
   "source": [
    "maxN(4, 5)"
   ]
  },
  {
   "cell_type": "markdown",
   "id": "99db0629-33c1-4b98-ba29-a15a324763d0",
   "metadata": {},
   "source": [
    "#### Max and Min using List Comprehension"
   ]
  },
  {
   "cell_type": "code",
   "execution_count": 79,
   "id": "107dd784-bf52-4114-95ed-3014fd4ef401",
   "metadata": {},
   "outputs": [
    {
     "data": {
      "text/plain": [
       "[9]"
      ]
     },
     "execution_count": 79,
     "metadata": {},
     "output_type": "execute_result"
    }
   ],
   "source": [
    "a=6\n",
    "b=9 \n",
    "maxNLC = [a if a > b else b]\n",
    "maxNLC"
   ]
  },
  {
   "cell_type": "code",
   "execution_count": 80,
   "id": "47f4cd9a-5ad1-4fed-b86a-42c40410829f",
   "metadata": {},
   "outputs": [
    {
     "data": {
      "text/plain": [
       "[6]"
      ]
     },
     "execution_count": 80,
     "metadata": {},
     "output_type": "execute_result"
    }
   ],
   "source": [
    "minNLC = [a if a<b else b]\n",
    "minNLC"
   ]
  },
  {
   "cell_type": "markdown",
   "id": "80bc400d-544e-4aee-8438-c6eb0696ef0a",
   "metadata": {},
   "source": [
    "#### Palindrome"
   ]
  },
  {
   "cell_type": "code",
   "execution_count": 81,
   "id": "e7c8590c-df82-4f4e-9ff8-48be65560a24",
   "metadata": {},
   "outputs": [],
   "source": [
    "# Is Palindrome\n",
    "\n",
    "def ispal(string):\n",
    "\n",
    "    string.lower()\n",
    "    new_string = string[::-1]\n",
    "\n",
    "    new = [True if new_string == string else False]\n",
    "\n",
    "    return new"
   ]
  },
  {
   "cell_type": "code",
   "execution_count": 82,
   "id": "4c496420-b13c-4b23-a44f-020252fcbad8",
   "metadata": {},
   "outputs": [
    {
     "data": {
      "text/plain": [
       "[False]"
      ]
     },
     "execution_count": 82,
     "metadata": {},
     "output_type": "execute_result"
    }
   ],
   "source": [
    "ispal('popo')"
   ]
  },
  {
   "cell_type": "markdown",
   "id": "f32455c1-cf28-475e-aea2-11a9f6266079",
   "metadata": {},
   "source": [
    "#### Reversing string"
   ]
  },
  {
   "cell_type": "code",
   "execution_count": 83,
   "id": "ce3e7353-0e77-4ee5-acb3-d3154c8959d9",
   "metadata": {},
   "outputs": [],
   "source": [
    "def reverse_string(string):\n",
    "\n",
    "    st = string.split(' ')\n",
    "    st = st[::-1]\n",
    "    st = ' '.join(st)\n",
    "\n",
    "    return st"
   ]
  },
  {
   "cell_type": "code",
   "execution_count": 84,
   "id": "5dad8be9-7bf4-4275-b4c4-ec409c2eec94",
   "metadata": {},
   "outputs": [
    {
     "data": {
      "text/plain": [
       "'laxmi is name my'"
      ]
     },
     "execution_count": 84,
     "metadata": {},
     "output_type": "execute_result"
    }
   ],
   "source": [
    "reverse_string('my name is laxmi')"
   ]
  },
  {
   "cell_type": "markdown",
   "id": "8da5f388-6b3d-4787-a33e-8f504851b13d",
   "metadata": {},
   "source": [
    "#### Checking if Palindrome - leetcode question"
   ]
  },
  {
   "cell_type": "code",
   "execution_count": 85,
   "id": "1fd96e5a-2980-4ca7-b64f-ea2591ee9b32",
   "metadata": {},
   "outputs": [
    {
     "name": "stdout",
     "output_type": "stream",
     "text": [
      "True\n"
     ]
    }
   ],
   "source": [
    "import re\n",
    "s = \"A man, a plan, a canal: Panama\"\n",
    "new_s = re.findall('\\w+', s)\n",
    "new_s = ' '.join(new_s)\n",
    "new_s = new_s.replace(' ', '').lower()\n",
    "new_s_2 = new_s[::-1]\n",
    "\n",
    "if new_s == new_s_2:\n",
    "    print(True)\n",
    "else:\n",
    "    print(False)"
   ]
  },
  {
   "cell_type": "code",
   "execution_count": 86,
   "id": "909b9622-8ef1-4d6e-b4f4-358dbd0a2019",
   "metadata": {},
   "outputs": [],
   "source": [
    "import re\n",
    "class Solution:\n",
    "    def isPalindrome(self, s):\n",
    "        self.s = s\n",
    "\n",
    "        self.s = re.sub('\\W+', '', self.s) # removes all special chaaracter(except '_') and also joins the string\n",
    "        self.s = self.s.replace('_', '').lower()\n",
    "        new_s = self.s[::-1]\n",
    "\n",
    "        if self.s == new_s:\n",
    "            return True\n",
    "        else:\n",
    "            return False"
   ]
  },
  {
   "cell_type": "code",
   "execution_count": 87,
   "id": "8f86ad2d-61ed-4e8f-9025-fc243323190d",
   "metadata": {},
   "outputs": [],
   "source": [
    "Sol = Solution()"
   ]
  },
  {
   "cell_type": "code",
   "execution_count": 88,
   "id": "1783b3f3-a0a4-4218-b551-050552f568ed",
   "metadata": {},
   "outputs": [
    {
     "data": {
      "text/plain": [
       "True"
      ]
     },
     "execution_count": 88,
     "metadata": {},
     "output_type": "execute_result"
    }
   ],
   "source": [
    "s = 'ab_a'\n",
    "Sol.isPalindrome(s)"
   ]
  },
  {
   "cell_type": "code",
   "execution_count": 89,
   "id": "1e0dcc13-1953-44ff-b4d8-26c9ed05a640",
   "metadata": {},
   "outputs": [],
   "source": [
    "def remove(l, n):\n",
    "\n",
    "    newl = l.replace(n, '')\n",
    "    return newl"
   ]
  },
  {
   "cell_type": "code",
   "execution_count": 90,
   "id": "cbc2be8e-dce7-425e-b13c-20884265177c",
   "metadata": {},
   "outputs": [
    {
     "data": {
      "text/plain": [
       "'GeeksForGeeks'"
      ]
     },
     "execution_count": 90,
     "metadata": {},
     "output_type": "execute_result"
    }
   ],
   "source": [
    "l = 'Geeks123For123Geeks'\n",
    "remove(l, '123')"
   ]
  },
  {
   "cell_type": "markdown",
   "id": "b304cdaf-baf1-4406-a66c-ee73849efd27",
   "metadata": {},
   "source": [
    "#### Classes"
   ]
  },
  {
   "cell_type": "code",
   "execution_count": 91,
   "id": "fec9eee6-2275-490d-8d83-a39e977255d6",
   "metadata": {},
   "outputs": [],
   "source": [
    "class Vehicle:\n",
    "\n",
    "    def __init__(self, max_speed, mileage):\n",
    "        self.max_speed = max_speed\n",
    "        self.mileage = mileage"
   ]
  },
  {
   "cell_type": "code",
   "execution_count": 92,
   "id": "030ee316-bf0a-4ba4-af42-0cb274462b63",
   "metadata": {},
   "outputs": [],
   "source": [
    "v = Vehicle(190, 50)"
   ]
  },
  {
   "cell_type": "code",
   "execution_count": 93,
   "id": "e87cb1e2-8c3e-4729-b841-b7e575c652e5",
   "metadata": {},
   "outputs": [
    {
     "name": "stdout",
     "output_type": "stream",
     "text": [
      "190 50\n"
     ]
    }
   ],
   "source": [
    "print(v.max_speed, v.mileage)"
   ]
  },
  {
   "cell_type": "markdown",
   "id": "642adbe2-0eb3-45a2-bcf8-0f7ed0fd6f04",
   "metadata": {},
   "source": [
    "# Python Coding exercise"
   ]
  },
  {
   "cell_type": "code",
   "execution_count": 94,
   "id": "c9fd3602-4f4f-429a-be6a-0245b6ddd6db",
   "metadata": {},
   "outputs": [],
   "source": [
    "def reverse_int():\n",
    "\n",
    "    num = int(input('Enter a number to reverse '))\n",
    "    new_number = ''\n",
    "        \n",
    "    for _ in range(len(str(num))):\n",
    "\n",
    "        # ex : num = 123%10 = 3 \n",
    "        # This will give me the unit place digit\n",
    "        num1 = num%10\n",
    "\n",
    "        # ex : new = 3\n",
    "        # Putting the unit place number into new variable\n",
    "        new_number =  new_number + str(num1)\n",
    "\n",
    "        # ex  ; num = 123//10 = 12\n",
    "        # Will give me the power \n",
    "        num = num//10\n",
    "\n",
    "    # This will run until the length of the given number and return the reversed integer\n",
    "    return f\"After reversing the number : {int(new_number)}\""
   ]
  },
  {
   "cell_type": "code",
   "execution_count": 96,
   "id": "f5f8edc9-2286-4d4a-80de-592eea5441d1",
   "metadata": {},
   "outputs": [
    {
     "name": "stdin",
     "output_type": "stream",
     "text": [
      "Enter a number to reverse  678\n"
     ]
    },
    {
     "data": {
      "text/plain": [
       "'After reversing the number : 876'"
      ]
     },
     "execution_count": 96,
     "metadata": {},
     "output_type": "execute_result"
    }
   ],
   "source": [
    "reverse_int()"
   ]
  },
  {
   "cell_type": "markdown",
   "id": "826408d2-950c-4c06-beb3-6bef0d609cb3",
   "metadata": {},
   "source": [
    "#### If Armstrong number\n",
    "* if the sum of its own digits raised to the power number of digits gives the number itself."
   ]
  },
  {
   "cell_type": "code",
   "execution_count": 97,
   "id": "3c7ab874-580c-4dec-a2bf-d131739047c3",
   "metadata": {},
   "outputs": [],
   "source": [
    "def armstrong(num):\n",
    "    \n",
    "    num3 = 0\n",
    "    if num > 0:\n",
    "        \n",
    "        l = len(str(num)) # num is not subscribtable to converted to string to get len\n",
    "        for i in range(0, len(str(num))):\n",
    "\n",
    "            # converting num to str to make it subscribtable\n",
    "            num1 = str(num)\n",
    "            # After becoming subscribtable, for multiply operating converting it to integer\n",
    "            num2 = int(num1[i])**l\n",
    "            # Saving each element power 3 answer to a variable\n",
    "            num3 = num3 + num2\n",
    "\n",
    "        # Checking if obtained result is equal to the number\n",
    "        if num3 == num:\n",
    "            return f'{num} is an armstrong number'\n",
    "        else:\n",
    "            return f'{num} is not an armstrong number'"
   ]
  },
  {
   "cell_type": "code",
   "execution_count": 98,
   "id": "eafe7053-7cce-4ea5-bf33-965831ce58ec",
   "metadata": {},
   "outputs": [
    {
     "data": {
      "text/plain": [
       "'8208 is an armstrong number'"
      ]
     },
     "execution_count": 98,
     "metadata": {},
     "output_type": "execute_result"
    }
   ],
   "source": [
    "armstrong(8208)"
   ]
  },
  {
   "cell_type": "markdown",
   "id": "75bd4065-b08b-4e16-ac21-cfd27454cb91",
   "metadata": {},
   "source": [
    "#### If prime - checking for a single digit"
   ]
  },
  {
   "cell_type": "code",
   "execution_count": 99,
   "id": "85929442-2223-4cb7-80ce-779656fc60f2",
   "metadata": {},
   "outputs": [],
   "source": [
    "def isprime(n):\n",
    "\n",
    "    if n <= 1:\n",
    "        return 'Prime numbers starts from 2'\n",
    "\n",
    "    for i in range(2, n):\n",
    "        if n % i == 0:\n",
    "            return 'Not a prime number'\n",
    "    return 'Prime number'"
   ]
  },
  {
   "cell_type": "code",
   "execution_count": 100,
   "id": "a9eebd90-8e56-4162-be1c-01d8c4ae0c6d",
   "metadata": {},
   "outputs": [
    {
     "data": {
      "text/plain": [
       "'Not a prime number'"
      ]
     },
     "execution_count": 100,
     "metadata": {},
     "output_type": "execute_result"
    }
   ],
   "source": [
    "isprime(6)"
   ]
  },
  {
   "cell_type": "markdown",
   "id": "e1c78e92-805d-4843-acce-01824bda64b0",
   "metadata": {},
   "source": [
    "#### Fibonacci"
   ]
  },
  {
   "cell_type": "code",
   "execution_count": 101,
   "id": "e3f15c22-5c89-45aa-8f49-6d890cfe3926",
   "metadata": {},
   "outputs": [],
   "source": [
    "def fibonacci(num):\n",
    "    \n",
    "    if num == 0:\n",
    "        return 0\n",
    "    elif num == 1:\n",
    "        return 1\n",
    "    else:\n",
    "        return fibonacci(num-1)+fibonacci(num-2)"
   ]
  },
  {
   "cell_type": "code",
   "execution_count": 102,
   "id": "ad0834cf-f6fb-4c98-8dfb-26d9f3ac3ec8",
   "metadata": {},
   "outputs": [
    {
     "data": {
      "text/plain": [
       "13"
      ]
     },
     "execution_count": 102,
     "metadata": {},
     "output_type": "execute_result"
    }
   ],
   "source": [
    "fibonacci(7)"
   ]
  },
  {
   "cell_type": "markdown",
   "id": "89b4431a-9675-4b35-ad9b-52e71fdb96e8",
   "metadata": {},
   "source": [
    "#### Smallest number in a given list"
   ]
  },
  {
   "cell_type": "code",
   "execution_count": 103,
   "id": "9ddaf302-2624-4f1c-a6ac-81827dce4118",
   "metadata": {},
   "outputs": [],
   "source": [
    "def smallestN(n):\n",
    "    n = sorted(n)\n",
    "    return n[0]"
   ]
  },
  {
   "cell_type": "code",
   "execution_count": 104,
   "id": "b23048e3-a625-48cc-8430-e7c957549186",
   "metadata": {},
   "outputs": [
    {
     "data": {
      "text/plain": [
       "11"
      ]
     },
     "execution_count": 104,
     "metadata": {},
     "output_type": "execute_result"
    }
   ],
   "source": [
    "n = [25, 12, 11]\n",
    "smallestN(n)"
   ]
  },
  {
   "cell_type": "markdown",
   "id": "c7bccaa8-2014-46bb-a4b3-a13c165ffe65",
   "metadata": {},
   "source": [
    "#### Smallest in a list using a loop"
   ]
  },
  {
   "cell_type": "code",
   "execution_count": 105,
   "id": "645204fe-f672-49c9-b48a-8e608fa686ab",
   "metadata": {},
   "outputs": [],
   "source": [
    "def smallN_loop(n, a = 0):\n",
    "\n",
    "    for i in range(0, len(n)):\n",
    "        for j in range(i+1, len(n)):\n",
    "            if n[i] > n[j]:\n",
    "                a = n[i]\n",
    "                n[i] = n[j]\n",
    "                n[j] = a\n",
    "    print(n)\n",
    "    return n[0]"
   ]
  },
  {
   "cell_type": "code",
   "execution_count": 106,
   "id": "079d26ee-3a03-415f-8637-c13d6531087c",
   "metadata": {},
   "outputs": [
    {
     "name": "stdout",
     "output_type": "stream",
     "text": [
      "[8, 9, 11, 12, 25]\n"
     ]
    },
    {
     "data": {
      "text/plain": [
       "8"
      ]
     },
     "execution_count": 106,
     "metadata": {},
     "output_type": "execute_result"
    }
   ],
   "source": [
    "n = [25, 12, 11, 9, 8]\n",
    "smallN_loop(n)"
   ]
  },
  {
   "cell_type": "markdown",
   "id": "8ea07488-2db6-48c3-9eae-12fb756e8e5d",
   "metadata": {},
   "source": [
    "#### Perfect number\n",
    "A perfect number is a number that is equal to the sum of its proper divisors. "
   ]
  },
  {
   "cell_type": "code",
   "execution_count": 35,
   "id": "ec24cb3c-31e4-4250-90d7-332fe2e47491",
   "metadata": {},
   "outputs": [],
   "source": [
    "def perfectN(n):\n",
    "\n",
    "    a = 0\n",
    "    if n <= 0:\n",
    "        print('Zero and negative numbers are not perfect numbers')\n",
    "\n",
    "    if n >= 1:\n",
    "        for i in range(1, n):\n",
    "            if n % i == 0:\n",
    "                a = a + i\n",
    "        if a == n:\n",
    "            print(\"It's a perfect number\")\n",
    "        else:\n",
    "            print('Not a perfect number')"
   ]
  },
  {
   "cell_type": "code",
   "execution_count": 36,
   "id": "96fa6c7f-359b-4432-8965-4da143e09dcc",
   "metadata": {},
   "outputs": [
    {
     "name": "stdout",
     "output_type": "stream",
     "text": [
      "Not a perfect number\n"
     ]
    }
   ],
   "source": [
    "perfectN(27)"
   ]
  },
  {
   "cell_type": "markdown",
   "id": "5dffd777-ff40-42f0-917f-18427cd50ec3",
   "metadata": {},
   "source": [
    "#### Returning average of a list"
   ]
  },
  {
   "cell_type": "code",
   "execution_count": null,
   "id": "5354b810-5b6f-462b-ab10-51b0b03fc368",
   "metadata": {},
   "outputs": [],
   "source": [
    "def Avg(n):\n",
    "\n",
    "    l = len(n)\n",
    "    s = 0\n",
    "    for i in range(0, len(n)):\n",
    "        s = s + n[i]\n",
    "    avg = s/l\n",
    "    return avg"
   ]
  },
  {
   "cell_type": "code",
   "execution_count": null,
   "id": "c62de26c-eb31-4cd2-8e61-715385918d6b",
   "metadata": {},
   "outputs": [],
   "source": [
    "s = [1, 2, 3, 4, 5, 6,7, 8, 9]\n",
    "v = [9, 5, 7, 88, 21]\n",
    "Avg(v)"
   ]
  },
  {
   "cell_type": "markdown",
   "id": "7cfb131c-bf87-4243-baf5-9c10afff63a7",
   "metadata": {},
   "source": [
    "#### factorial"
   ]
  },
  {
   "cell_type": "code",
   "execution_count": 37,
   "id": "105a209c-5b42-40ff-bd9e-f0432c868a91",
   "metadata": {},
   "outputs": [],
   "source": [
    "def fact(n):\n",
    "\n",
    "    l = 1\n",
    "    if n <= 1:\n",
    "        return 1\n",
    "    if n > 1:\n",
    "        for i in range(1, n+1):\n",
    "            l = l * i\n",
    "    print(l)"
   ]
  },
  {
   "cell_type": "code",
   "execution_count": 38,
   "id": "49efea74-ef09-4c5a-8987-c7088a0c6d37",
   "metadata": {},
   "outputs": [
    {
     "name": "stdout",
     "output_type": "stream",
     "text": [
      "720\n"
     ]
    }
   ],
   "source": [
    "fact(6)"
   ]
  },
  {
   "cell_type": "markdown",
   "id": "93e58beb-3313-414c-abaa-d34ce30b0f87",
   "metadata": {},
   "source": [
    "#### Factorial using recursion"
   ]
  },
  {
   "cell_type": "code",
   "execution_count": 39,
   "id": "602f8c38-ed15-406b-9ede-8c77b0b458f0",
   "metadata": {},
   "outputs": [],
   "source": [
    "def factR(n):\n",
    "    \n",
    "    l = 1\n",
    "    if n < 0:\n",
    "        return 'Negative value'\n",
    "        \n",
    "    if n == 0 or n == 1:\n",
    "        return 1\n",
    "        \n",
    "    if n > 1:\n",
    "        l = n * factR(n-1)\n",
    "        return l"
   ]
  },
  {
   "cell_type": "code",
   "execution_count": 40,
   "id": "25be0a53-192f-4e02-82fe-7cd467cb9e17",
   "metadata": {},
   "outputs": [
    {
     "data": {
      "text/plain": [
       "720"
      ]
     },
     "execution_count": 40,
     "metadata": {},
     "output_type": "execute_result"
    }
   ],
   "source": [
    "factR(6)"
   ]
  },
  {
   "cell_type": "markdown",
   "id": "d6359290-363c-48b8-9247-473be1f6187a",
   "metadata": {},
   "source": [
    "#### Even or Odd"
   ]
  },
  {
   "cell_type": "code",
   "execution_count": 41,
   "id": "8103ba3a-dd71-40da-b994-60a6b0a91cf2",
   "metadata": {},
   "outputs": [],
   "source": [
    "def even_odd(n):\n",
    "\n",
    "    if n % 2 == 0:\n",
    "        print(f'{n} is a even number')\n",
    "    else:\n",
    "        print(f'{n} is not a even number')"
   ]
  },
  {
   "cell_type": "code",
   "execution_count": 42,
   "id": "ff28d61d-5038-421e-ba88-529efa6e594c",
   "metadata": {},
   "outputs": [
    {
     "name": "stdout",
     "output_type": "stream",
     "text": [
      "10 is a even number\n"
     ]
    }
   ],
   "source": [
    "even_odd(10)"
   ]
  },
  {
   "cell_type": "markdown",
   "id": "11aae10a-c340-4e50-9e25-695eca2ae60d",
   "metadata": {},
   "source": [
    "#### Finding prime number in a given number (range)"
   ]
  },
  {
   "cell_type": "code",
   "execution_count": 43,
   "id": "e9ec4fd9-7e3b-4d51-848d-c1114fd3a75b",
   "metadata": {},
   "outputs": [],
   "source": [
    "def prime_in_range(n):\n",
    "    \n",
    "    prime_number = [2]\n",
    "    \n",
    "    if n == 0 or n == 1:\n",
    "        return f'{n} is not a prime number'\n",
    "\n",
    "    if n == 2:\n",
    "        return f'This is a prime number - {n}'\n",
    "        \n",
    "    if n > 2:\n",
    "        for i in range(3, n+1):\n",
    "            for j in range(2, i):\n",
    "                if i % j == 0:\n",
    "                    break\n",
    "            if i % j != 0:\n",
    "                prime_number.append(i)\n",
    "\n",
    "        if len(prime_number) == 1:\n",
    "            return f'This is a prime number in given range - {prime_number}'\n",
    "            \n",
    "    return f'These are prime numbers in given range - {prime_number}'"
   ]
  },
  {
   "cell_type": "code",
   "execution_count": 44,
   "id": "0edf2b0a-b6fd-4149-bf0f-66288d807918",
   "metadata": {},
   "outputs": [
    {
     "data": {
      "text/plain": [
       "'These are prime numbers in given range - [2, 3, 5, 7, 11, 13, 17, 19, 23]'"
      ]
     },
     "execution_count": 44,
     "metadata": {},
     "output_type": "execute_result"
    }
   ],
   "source": [
    "prime_in_range(23)"
   ]
  },
  {
   "cell_type": "markdown",
   "id": "747eb1d5-2a06-4155-b9a5-2ef11b53a9d7",
   "metadata": {},
   "source": [
    "#### Prime numbers in a given range"
   ]
  },
  {
   "cell_type": "code",
   "execution_count": 45,
   "id": "cf38a190-cc4e-4799-9c87-136ca9688305",
   "metadata": {},
   "outputs": [],
   "source": [
    "def prime_in_range2(n1, n2):\n",
    "    \n",
    "    prime_number = [2]\n",
    "    \n",
    "    if n1 == 0 or n1 == 1:\n",
    "        return f'{n} is not a prime number'\n",
    "\n",
    "    if n1 == 2:\n",
    "        return f'This is a prime number - {n}'\n",
    "        \n",
    "    if n1 > 2:\n",
    "        for i in range(n1, n2):\n",
    "            for j in range(2, i):\n",
    "                if i % j == 0:\n",
    "                    break\n",
    "            if i % j != 0:\n",
    "                prime_number.append(i)\n",
    "\n",
    "        if len(prime_number) == 1:\n",
    "            return f'This is a prime number in given range - {prime_number}'\n",
    "            \n",
    "    return f'These are prime numbers in given range - {prime_number}'"
   ]
  },
  {
   "cell_type": "code",
   "execution_count": 46,
   "id": "a3cc1fb6-12a8-4185-9c56-869e99c1341e",
   "metadata": {},
   "outputs": [
    {
     "data": {
      "text/plain": [
       "'These are prime numbers in given range - [2, 5, 7, 11, 13, 17, 19, 23, 29, 31, 37, 41, 43]'"
      ]
     },
     "execution_count": 46,
     "metadata": {},
     "output_type": "execute_result"
    }
   ],
   "source": [
    "prime_in_range2(4, 45)"
   ]
  },
  {
   "cell_type": "markdown",
   "id": "59ffd8d4-88e5-43cc-b7ca-e759da1d2c3c",
   "metadata": {},
   "source": [
    "#### Ascending list"
   ]
  },
  {
   "cell_type": "code",
   "execution_count": 67,
   "id": "e8a095fc-e4a6-49c2-bc94-2c5a004c4c8b",
   "metadata": {},
   "outputs": [],
   "source": [
    "def small(n):\n",
    "    temp = 0\n",
    "    for i in range(0, len(n)):\n",
    "        for j in range(i+1, len(n)):\n",
    "            if n[i] > n[j]:\n",
    "                temp = n[i]\n",
    "                n[i] = n[j]\n",
    "                n[j] = temp\n",
    "        if n[i] < n[j]:\n",
    "            continue\n",
    "    return n"
   ]
  },
  {
   "cell_type": "code",
   "execution_count": 68,
   "id": "27c577c7-084b-4489-9274-afb974ada285",
   "metadata": {},
   "outputs": [
    {
     "data": {
      "text/plain": [
       "[10, 11, 12, 25]"
      ]
     },
     "execution_count": 68,
     "metadata": {},
     "output_type": "execute_result"
    }
   ],
   "source": [
    "n = [12, 25, 11, 10]\n",
    "small(n)"
   ]
  },
  {
   "cell_type": "markdown",
   "id": "28d1bfd5-4e99-450d-b397-078d491d76b3",
   "metadata": {},
   "source": [
    "#### Find LCM "
   ]
  },
  {
   "cell_type": "code",
   "execution_count": null,
   "id": "12601bc9-5571-4752-a104-4eff84c815b0",
   "metadata": {},
   "outputs": [],
   "source": [
    "def lcm(n1, n2):\n",
    "\n",
    "    if n1 > n2:  \n",
    "        max = n1  \n",
    "    else:  \n",
    "        max = n2  \n",
    "    while(True):  \n",
    "        if((max % n1 == 0) and (max % n2 == 0)):  \n",
    "            lcm = max \n",
    "            break  \n",
    "        # print(max)\n",
    "        max += 1  \n",
    "    print(\"LCM of\",n1,\"and\",n2,\"=\",max)"
   ]
  },
  {
   "cell_type": "code",
   "execution_count": null,
   "id": "e9268083-5a35-4f51-9520-d39dd3a0cc6b",
   "metadata": {},
   "outputs": [],
   "source": [
    "lcm(4, 10)"
   ]
  },
  {
   "cell_type": "markdown",
   "id": "c768b58c-92c9-4496-9140-dc842e68faa2",
   "metadata": {},
   "source": [
    "#### Convert the integer to binary"
   ]
  },
  {
   "cell_type": "code",
   "execution_count": 63,
   "id": "d3d566b4-6ff8-4d50-9c33-37ef49eac75b",
   "metadata": {},
   "outputs": [],
   "source": [
    "def to_decimal(n, d=[]):\n",
    "    \n",
    "    if n < 1:\n",
    "        return\n",
    "    \n",
    "    else:\n",
    "        b = n % 2\n",
    "        n = n // 2\n",
    "        d.append(b)\n",
    "        to_decimal(n,d)\n",
    "        \n",
    "    decimal = ''.join([str(elem) for elem in d])\n",
    "    return f'Binary for the given number is {int(decimal[::-1])}'"
   ]
  },
  {
   "cell_type": "code",
   "execution_count": 64,
   "id": "678c9c7e-3eb2-46c9-9e23-5d5e01220a2d",
   "metadata": {},
   "outputs": [
    {
     "data": {
      "text/plain": [
       "'Binary for the given number is 100010'"
      ]
     },
     "execution_count": 64,
     "metadata": {},
     "output_type": "execute_result"
    }
   ],
   "source": [
    "to_decimal(34)"
   ]
  },
  {
   "cell_type": "markdown",
   "id": "bb3922c1-d082-4a5c-b059-490278f9d3b0",
   "metadata": {},
   "source": [
    "#### Remove a letter from string"
   ]
  },
  {
   "cell_type": "code",
   "execution_count": 49,
   "id": "2678710e-09c5-4a13-ae6e-8fd03ac34446",
   "metadata": {},
   "outputs": [],
   "source": [
    "def removestr():\n",
    "\n",
    "    st = input('Enter a string : ')\n",
    "    element = input('Enter a element which you want to remove : ')\n",
    "\n",
    "    if element in st:\n",
    "        st = st.replace(element, '')\n",
    "    else:\n",
    "        return f'{element} = not present in the given string'\n",
    "    return st"
   ]
  },
  {
   "cell_type": "code",
   "execution_count": 50,
   "id": "abd800f5-c3e1-44a9-8593-e9a458241922",
   "metadata": {},
   "outputs": [
    {
     "name": "stdin",
     "output_type": "stream",
     "text": [
      "Enter a string :  ert\n",
      "Enter a element which you want to remove :  r\n"
     ]
    },
    {
     "data": {
      "text/plain": [
       "'et'"
      ]
     },
     "execution_count": 50,
     "metadata": {},
     "output_type": "execute_result"
    }
   ],
   "source": [
    "removestr()"
   ]
  },
  {
   "cell_type": "markdown",
   "id": "f9116a94-ce52-4a34-b228-4f6eea81a1b4",
   "metadata": {},
   "source": [
    "#### Count occurence of a given letter "
   ]
  },
  {
   "cell_type": "code",
   "execution_count": 61,
   "id": "36429545-882e-49ef-b997-7859aa2dc984",
   "metadata": {},
   "outputs": [],
   "source": [
    "def occurence():\n",
    "    \n",
    "    count = 0\n",
    "    st = input('Enter a string : ')\n",
    "    element = input('Enter a element to count its occurence : ')\n",
    "    for i in range(len(st)):\n",
    "        if st[i] == element:\n",
    "            count = count + 1\n",
    "    return count"
   ]
  },
  {
   "cell_type": "code",
   "execution_count": 62,
   "id": "fb01f77e-784c-4f63-9e55-2d02b7c766d1",
   "metadata": {},
   "outputs": [
    {
     "name": "stdin",
     "output_type": "stream",
     "text": [
      "Enter a string :  erty\n",
      "Enter a element which you want to remove :  y\n"
     ]
    },
    {
     "data": {
      "text/plain": [
       "1"
      ]
     },
     "execution_count": 62,
     "metadata": {},
     "output_type": "execute_result"
    }
   ],
   "source": [
    "occurence()"
   ]
  },
  {
   "cell_type": "markdown",
   "id": "dd94a01b-56c3-4f96-959a-c9faec074aee",
   "metadata": {},
   "source": [
    "#### Zip method\n",
    "Is used to combine two or more lists (or any other iterables) into a single iterable, where elements from corresponding positions are paired together"
   ]
  },
  {
   "cell_type": "code",
   "execution_count": 59,
   "id": "61cb226c-b16c-4c7c-9be3-1d9d9de9135b",
   "metadata": {},
   "outputs": [],
   "source": [
    "a = [1, 2, 3]\n",
    "b = [4, 5, 6]\n",
    "\n",
    "c = list(zip(a, b))"
   ]
  },
  {
   "cell_type": "code",
   "execution_count": 60,
   "id": "d96b1fa0-c2a0-40a3-a727-fdfe2c3f98ce",
   "metadata": {},
   "outputs": [
    {
     "name": "stdout",
     "output_type": "stream",
     "text": [
      "[(1, 4), (2, 5), (3, 6)]\n"
     ]
    }
   ],
   "source": [
    "print(c)"
   ]
  },
  {
   "cell_type": "markdown",
   "id": "100310d5-aaae-404f-970c-3b6ae9a35043",
   "metadata": {},
   "source": [
    "#### Vowel or Consonant"
   ]
  },
  {
   "cell_type": "code",
   "execution_count": 57,
   "id": "afed1dab-5272-420d-8c94-a43f42a93b09",
   "metadata": {},
   "outputs": [],
   "source": [
    "def vowel_or_consonant(n):\n",
    "\n",
    "    vowel = ['a', 'e', 'i', 'o', 'u']\n",
    "    if n in vowel:\n",
    "        return 'Vowel'\n",
    "    return 'Consonant'"
   ]
  },
  {
   "cell_type": "code",
   "execution_count": 58,
   "id": "539ad20e-a2ea-4cf5-a5ec-62a5027cf8d4",
   "metadata": {},
   "outputs": [
    {
     "data": {
      "text/plain": [
       "'Consonant'"
      ]
     },
     "execution_count": 58,
     "metadata": {},
     "output_type": "execute_result"
    }
   ],
   "source": [
    "vowel_or_consonant('b')"
   ]
  },
  {
   "cell_type": "markdown",
   "id": "54f59a1f-f920-4d23-83eb-a422de1fd3e1",
   "metadata": {},
   "source": [
    "#### Isdigit() method"
   ]
  },
  {
   "cell_type": "code",
   "execution_count": 55,
   "id": "0f384d99-c61d-4c0a-84aa-b03410671c91",
   "metadata": {},
   "outputs": [],
   "source": [
    "def digit(n):\n",
    "    return n.isdigit() # isdigit is a string method"
   ]
  },
  {
   "cell_type": "code",
   "execution_count": 56,
   "id": "06eb7ef1-32bb-4080-9f9b-71b2edf539c5",
   "metadata": {},
   "outputs": [
    {
     "data": {
      "text/plain": [
       "True"
      ]
     },
     "execution_count": 56,
     "metadata": {},
     "output_type": "execute_result"
    }
   ],
   "source": [
    "digit('1')"
   ]
  },
  {
   "cell_type": "code",
   "execution_count": null,
   "id": "2509f2da-fe95-42a5-a598-2742959888ef",
   "metadata": {},
   "outputs": [],
   "source": []
  }
 ],
 "metadata": {
  "kernelspec": {
   "display_name": "Python 3 (ipykernel)",
   "language": "python",
   "name": "python3"
  },
  "language_info": {
   "codemirror_mode": {
    "name": "ipython",
    "version": 3
   },
   "file_extension": ".py",
   "mimetype": "text/x-python",
   "name": "python",
   "nbconvert_exporter": "python",
   "pygments_lexer": "ipython3",
   "version": "3.10.12"
  }
 },
 "nbformat": 4,
 "nbformat_minor": 5
}
