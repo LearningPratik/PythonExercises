{
 "cells": [
  {
   "cell_type": "markdown",
   "id": "eb138361-030c-40a5-b2f5-0088f4cab634",
   "metadata": {},
   "source": [
    "# 1] BMI Calculator"
   ]
  },
  {
   "cell_type": "code",
   "execution_count": null,
   "id": "975dce3d-de41-450d-adc2-676fd412f89b",
   "metadata": {},
   "outputs": [],
   "source": [
    "def BMI():\n",
    "\n",
    "    weight = float(input('Enter your weight in kg : '))\n",
    "    height = float(input('Enter your height in cm : '))\n",
    "\n",
    "    # Note - input function's output is string\n",
    "\n",
    "    result = int(weight / height ** 2)\n",
    "\n",
    "    if result <= 18.25:\n",
    "        return f'{result} - you are underweight'\n",
    "\n",
    "    elif result > 18.25 and result <= 25:\n",
    "        return f'{result} - you are healthy'\n",
    "\n",
    "    elif result > 25 and result <= 30:\n",
    "        return f'{result} - you are overweight'\n",
    "\n",
    "    elif result > 30 and result < 35:\n",
    "        return f'{result} - you are obese'\n",
    "\n",
    "    else:\n",
    "        return f'{result} - you are clinically obese'"
   ]
  },
  {
   "cell_type": "code",
   "execution_count": null,
   "id": "4b6d1678-9db8-4b3f-8ce2-4fb969751979",
   "metadata": {},
   "outputs": [],
   "source": [
    "BMI()"
   ]
  },
  {
   "cell_type": "markdown",
   "id": "186e1c46-1db6-4be2-b197-79dd26f5d0bf",
   "metadata": {
    "jp-MarkdownHeadingCollapsed": true
   },
   "source": [
    "# 2] Until 90 \n",
    "* Function for finding out how many days remaining for a person to reach 90 years"
   ]
  },
  {
   "cell_type": "code",
   "execution_count": null,
   "id": "170dba07-9b4a-4352-bf90-b945923d9f8a",
   "metadata": {},
   "outputs": [],
   "source": [
    "def Until90():\n",
    "    \n",
    "    until_age = 90\n",
    "    your_age = int(input('Enter your age'))\n",
    "    \n",
    "    still_pending = until_age - your_age\n",
    "    \n",
    "    days_pending = still_pending * 365\n",
    "    weeks_pending = still_pending * 52\n",
    "    months_pending = still_pending * 12\n",
    "    \n",
    "    print(f'You still have {days_pending} days, {weeks_pending} weeks and {months_pending} months to enjoy this life')"
   ]
  },
  {
   "cell_type": "code",
   "execution_count": null,
   "id": "92c3b6c1-c675-49fc-af6b-23caf3948927",
   "metadata": {},
   "outputs": [],
   "source": [
    "Until90()"
   ]
  },
  {
   "cell_type": "markdown",
   "id": "750e3c15-dbe7-4b6d-96ab-2ee268872939",
   "metadata": {},
   "source": [
    "# 3] Even OR Odd"
   ]
  },
  {
   "cell_type": "code",
   "execution_count": 1,
   "id": "d2818908-ab7e-4fac-b62c-d48bc8254b80",
   "metadata": {},
   "outputs": [],
   "source": [
    "def even_or_odd():\n",
    "\n",
    "    n = int(input('Enter a number : '))\n",
    "            \n",
    "    if n % 2 == 0:\n",
    "        return f'{n} is an even number'\n",
    "\n",
    "    else:\n",
    "        return f'{n} is an odd number'"
   ]
  },
  {
   "cell_type": "code",
   "execution_count": 2,
   "id": "e8499c70-7e0d-4a25-81e0-d979fcd80970",
   "metadata": {},
   "outputs": [
    {
     "name": "stdin",
     "output_type": "stream",
     "text": [
      "Enter a number :  3\n"
     ]
    },
    {
     "data": {
      "text/plain": [
       "'3 is an odd number'"
      ]
     },
     "execution_count": 2,
     "metadata": {},
     "output_type": "execute_result"
    }
   ],
   "source": [
    "even_or_odd()"
   ]
  },
  {
   "cell_type": "markdown",
   "id": "c9bf4d69-f694-4cad-94ae-ff44418ab9a1",
   "metadata": {
    "jp-MarkdownHeadingCollapsed": true
   },
   "source": [
    "# 4] Leap year"
   ]
  },
  {
   "cell_type": "code",
   "execution_count": 3,
   "id": "3505a9aa-d99f-4e80-a0fc-b7f68752800c",
   "metadata": {},
   "outputs": [],
   "source": [
    "def LeapYear():\n",
    "\n",
    "    n = input('Enter a number : ')\n",
    "    \n",
    "    if '00' in n:\n",
    "        n = int(n)\n",
    "        \n",
    "        if n % 100 == 0 and n % 400 == 0:\n",
    "            return f'{n} is a leap year'\n",
    "        else:\n",
    "            return f'{n} is not a leap year'\n",
    "\n",
    "    elif int(n) % 4 == 0:\n",
    "        return f'{n} is a leap year'\n",
    "    else:\n",
    "        return f'{n} is not a leap year'"
   ]
  },
  {
   "cell_type": "code",
   "execution_count": 4,
   "id": "2e79a174-1ccc-4dc0-b3b4-0a70127a5c51",
   "metadata": {},
   "outputs": [
    {
     "name": "stdin",
     "output_type": "stream",
     "text": [
      "Enter a number :  1700\n"
     ]
    },
    {
     "data": {
      "text/plain": [
       "'1700 is not a leap year'"
      ]
     },
     "execution_count": 4,
     "metadata": {},
     "output_type": "execute_result"
    }
   ],
   "source": [
    "LeapYear()"
   ]
  },
  {
   "cell_type": "markdown",
   "id": "f503f3d3-eea0-4618-b783-4bd730639017",
   "metadata": {},
   "source": [
    "# 5] Pizza order \n",
    "* Order a pizza -> choose from various pizza -> and bill the customer"
   ]
  },
  {
   "cell_type": "code",
   "execution_count": 7,
   "id": "6c374541-0845-4f88-935d-f64a0d0f4d86",
   "metadata": {},
   "outputs": [],
   "source": [
    "def PizzaBill():\n",
    "\n",
    "    d1 = {'Small' : 100, 'Medium' : 200, 'Large' : 300}\n",
    "    d2 = {'SmallPep' : 30, 'Medium&Large' : 50, 'ExtraCheese' : 20}\n",
    "\n",
    "    print('Welcome to Pizza Mania!!!')\n",
    "\n",
    "    CustomerChoice = input('What size of pizza you would like : Small, Medium, Large')\n",
    "    CustomerChoice.upper()\n",
    "\n",
    "    Bill = 0\n",
    "\n",
    "    if CustomerChoice == 'Small':\n",
    "        Bill = Bill + d1['Small']\n",
    "        pep = input('\\nWould you like some pepporoni ? Y or N')\n",
    "        \n",
    "        if pep == 'Y' or pep == 'y':\n",
    "            pep = input('Small, Medium or Large ?')\n",
    "            \n",
    "            if pep == 'Small':\n",
    "                Bill = Bill + d2['SmallPep']\n",
    "                \n",
    "                cheese = input('Would you like some extra cheese ? Y or N')\n",
    "                if cheese == 'Y' or pep == 'y':\n",
    "                    return f\"Amount to be paid - { Bill + d2['ExtraCheese'] }\"\n",
    "                else:    \n",
    "                    return f\"Amount to be paid - {Bill}\"\n",
    "                    \n",
    "            if pep == 'Medium' or pep == 'Large':\n",
    "                Bill = Bill + d2['Medium&Large']\n",
    "\n",
    "                cheese = input('Would you like some extra cheese ? Y or N')\n",
    "                if cheese == 'Y'or pep == 'y':\n",
    "                    return f\"Amount to be paid - { Bill + d2['ExtraCheese'] }\"\n",
    "                else:\n",
    "                    return f\"Amount to be paid - {Bill}\"\n",
    "        else:\n",
    "            return f\"Amount to be paid - {Bill}\"\n",
    "\n",
    "    elif CustomerChoice == 'Medium':\n",
    "        Bill = Bill + d1['Medium']\n",
    "        pep = input('Would you like some pepporoni ? Y or N')\n",
    "        \n",
    "        if pep == 'Y' or pep == 'y':\n",
    "            pep = input('Small, Medium or Large ?')\n",
    "            \n",
    "            if pep == 'Small':\n",
    "                Bill = Bill + d2['SmallPep']\n",
    "                \n",
    "                cheese = input('Would you like some extra cheese ? Y or N')\n",
    "                if cheese == 'Y' or pep == 'y':\n",
    "                     return f\"Amount to be paid - { Bill + d2['ExtraCheese'] }\"\n",
    "                else:    \n",
    "                     return f\"Amount to be paid - {Bill}\"\n",
    "                    \n",
    "            if pep == 'Medium' or pep == 'Large':\n",
    "                Bill = Bill + d2['Medium&Large']\n",
    "\n",
    "                cheese = input('Would you like some extra cheese ? Y or N')\n",
    "                if cheese == 'Y' or pep == 'y':\n",
    "                    return f\"Amount to be paid - { Bill + d2['ExtraCheese'] }\"\n",
    "                else:    \n",
    "                    return f\"Amount to be paid - {Bill}\"\n",
    "        else:\n",
    "            return f\"Amount to be paid - {Bill}\"\n",
    "\n",
    "\n",
    "    elif CustomerChoice == 'Large':\n",
    "        Bill = Bill + d1['Large']\n",
    "        pep = input('Would you like some pepporoni ? Y or N')\n",
    "        \n",
    "        if pep == 'Y' or pep == 'y':\n",
    "            pep = input('Small, Medium or Large ?')\n",
    "            \n",
    "            if pep == 'Small':\n",
    "                Bill = Bill + d2['SmallPep']\n",
    "                \n",
    "                cheese = input('Would you like some extra cheese ? Y or N')\n",
    "                if cheese == 'Y' or pep == 'y':\n",
    "                    return f\"Amount to be paid - { Bill + d2['ExtraCheese'] }\"\n",
    "                else:    \n",
    "                    return f\"Amount to be paid - {Bill}\"\n",
    "                    \n",
    "            if pep == 'Medium' or pep == 'Large':\n",
    "                Bill = Bill + d2['Medium&Large']\n",
    "\n",
    "                cheese = input('Would you like some extra cheese ? Y or N')\n",
    "                if cheese == 'Y' or pep == 'y':\n",
    "                    return f\"Amount to be paid - { Bill + d2['ExtraCheese'] }\"\n",
    "                else:    \n",
    "                    return f\"Amount to be paid - {Bill}\"\n",
    "\n",
    "        else:\n",
    "            return f\"Amount to be paid - {Bill}\"\n",
    "\n",
    "\n",
    "    else:\n",
    "        cheese = input('Would you like some extra cheese ? Y or N')\n",
    "        if cheese == 'Y'or pep == 'y':\n",
    "            return f\"Amount to be paid - { Bill + d2['ExtraCheese'] }\"\n",
    "        else:\n",
    "            return f\"Amount to be paid - {Bill}\""
   ]
  },
  {
   "cell_type": "code",
   "execution_count": 8,
   "id": "00453e75-a68d-413a-903d-cbf28bca710c",
   "metadata": {},
   "outputs": [
    {
     "name": "stdout",
     "output_type": "stream",
     "text": [
      "Welcome to Pizza Mania!!!\n"
     ]
    },
    {
     "name": "stdin",
     "output_type": "stream",
     "text": [
      "What size of pizza you would like : Small, Medium, Large Small\n",
      "\n",
      "Would you like some pepporoni ? Y or N y\n",
      "Small, Medium or Large ? Small\n",
      "Would you like some extra cheese ? Y or N y\n"
     ]
    },
    {
     "data": {
      "text/plain": [
       "'Amount to be paid - 130'"
      ]
     },
     "execution_count": 8,
     "metadata": {},
     "output_type": "execute_result"
    }
   ],
   "source": [
    "PizzaBill()"
   ]
  },
  {
   "cell_type": "markdown",
   "id": "826ea875-5841-4fc6-9b50-2e5611750a17",
   "metadata": {
    "jp-MarkdownHeadingCollapsed": true
   },
   "source": [
    "# 7] Random numbers "
   ]
  },
  {
   "cell_type": "code",
   "execution_count": null,
   "id": "10a96975-9e45-4a58-bf64-aa8a76e012e1",
   "metadata": {},
   "outputs": [],
   "source": [
    "import random\n",
    "\n",
    "side = random.randint(0, 1)\n",
    "if side == 0:\n",
    "    print('Heads')\n",
    "else:\n",
    "    print('Tails')"
   ]
  },
  {
   "cell_type": "markdown",
   "id": "6c1125fd-1a25-4a7a-ae61-7b0a4cc20661",
   "metadata": {},
   "source": [
    "# 8] Who will pay the bill ?\n",
    "* To understand split method and random"
   ]
  },
  {
   "cell_type": "code",
   "execution_count": null,
   "id": "66713d8f-1cc6-45de-8ff4-51dba849e292",
   "metadata": {},
   "outputs": [],
   "source": [
    "a = input('Enter name and also put space : ')\n",
    "\n",
    "new_a = a.split(\" \")\n",
    "\n",
    "payer = random.randint(0, len(new_a)-1)\n",
    "print(f'{new_a[payer]} will pay the bill today...')"
   ]
  },
  {
   "cell_type": "markdown",
   "id": "31804391-7c2c-48ce-a747-6757c405b510",
   "metadata": {},
   "source": [
    "# 9] Pick and Change\n",
    "* Pick a index number from given matrix and give second index where you want the change"
   ]
  },
  {
   "cell_type": "code",
   "execution_count": 5,
   "id": "a0581f71-273e-4ca2-808d-e7ace3148f4b",
   "metadata": {},
   "outputs": [
    {
     "name": "stdin",
     "output_type": "stream",
     "text": [
      "Enter first number :  0\n",
      "Enter second number :  1\n"
     ]
    },
    {
     "name": "stdout",
     "output_type": "stream",
     "text": [
      "[[1, 'X', 3], [4, 5, 6], [7, 8, 9]]\n"
     ]
    }
   ],
   "source": [
    "a = [[1, 2, 3], [4, 5, 6], [7, 8, 9]]\n",
    "\n",
    "pick1 = int(input('Enter first number : '))\n",
    "pick2 = int(input('Enter second number : '))\n",
    "\n",
    "if pick1 > len(a)-1 or pick2 > len(a)-1:\n",
    "    raise Exception('Out of Index')\n",
    "else:\n",
    "    a[pick1][pick2] = 'X'\n",
    "    print(a)"
   ]
  },
  {
   "cell_type": "code",
   "execution_count": null,
   "id": "7fdebd93-ae5d-409b-b4c4-a3a64b6e0793",
   "metadata": {},
   "outputs": [],
   "source": [
    "len(a)-1"
   ]
  },
  {
   "cell_type": "markdown",
   "id": "49778a4b-c896-4267-946f-5b04b5d503f6",
   "metadata": {},
   "source": [
    "# 1] Project - Rock, paper and scissors"
   ]
  },
  {
   "cell_type": "code",
   "execution_count": null,
   "id": "0bec3756-4f81-48d4-9718-71df81d88a92",
   "metadata": {},
   "outputs": [],
   "source": [
    "import random\n",
    "dict = {1:'Rock', 2:'Paper', 3:'Scissors'}\n",
    "\n",
    "gamer_choice = int(input('Enter a number : 1 = Rock, 2 = Paper, 3 = Scissors'))\n",
    "computer_choice = random.randint(1, 3)\n",
    "\n",
    "if gamer_choice > 3 or gamer_choice < 1:\n",
    "    print('Enter a number between 1 and 3.')\n",
    "\n",
    "else:\n",
    "    print(f'{dict[gamer_choice]} - {dict[computer_choice]}')\n",
    "        \n",
    "    if gamer_choice == computer_choice:\n",
    "        print('Game tie')\n",
    "    \n",
    "    elif gamer_choice == 1 and computer_choice == 2:\n",
    "        print('You lost - Paper wins against rock')\n",
    "    \n",
    "    elif gamer_choice == 1 and computer_choice == 3:\n",
    "        print('You win - Rock wins against Scissors')\n",
    "    \n",
    "    elif gamer_choice == 2 and computer_choice == 1:\n",
    "        print('You win - Paper wins against rock')\n",
    "    \n",
    "    elif gamer_choice == 2 and computer_choice == 3:\n",
    "        print('You lost - Scissor wins against paper')\n",
    "    \n",
    "    elif gamer_choice == 3 and computer_choice == 1:\n",
    "        print('You lost - Rock wins against scissor')\n",
    "    \n",
    "    elif gamer_choice == 3 and computer_choice == 2:\n",
    "        print('You win - Scissor wins against paper')"
   ]
  },
  {
   "cell_type": "markdown",
   "id": "4912da44-7dbb-48dc-8ea5-04caa546557b",
   "metadata": {},
   "source": [
    "# 10] Calculate average height from list"
   ]
  },
  {
   "cell_type": "code",
   "execution_count": null,
   "id": "d0afecda-9bd0-4de2-aebb-5f80e329862a",
   "metadata": {},
   "outputs": [],
   "source": [
    "def AvgH(d=0, add_a=0):\n",
    "\n",
    "    li = input('Enter a list of heights, also have a space in between')\n",
    "    new_li = li.split(' ')\n",
    "\n",
    "    a = [int(i) for i in new_li]\n",
    "\n",
    "    for i in a:\n",
    "        if type(i) is int:\n",
    "            d = d + 1\n",
    "            \n",
    "    for i in range(0, d):\n",
    "        add_a = add_a + a[i]\n",
    "\n",
    "    return add_a/d"
   ]
  },
  {
   "cell_type": "code",
   "execution_count": null,
   "id": "24f828f3-aca1-4ccf-b4f1-fef8834b0432",
   "metadata": {},
   "outputs": [],
   "source": [
    "AvgH()"
   ]
  },
  {
   "cell_type": "markdown",
   "id": "503eaf31-19e4-41c9-b9b7-da52184d8df9",
   "metadata": {},
   "source": [
    "# 11] Find the maximum number in list"
   ]
  },
  {
   "cell_type": "code",
   "execution_count": null,
   "id": "3d59d6a7-f15b-48b3-9dea-7809459ee240",
   "metadata": {},
   "outputs": [],
   "source": [
    "l = [11, 20, 10, 4, 9]\n",
    "\n",
    "maxn = l[0]\n",
    "for i in l:\n",
    "    if i > maxn:\n",
    "        maxn = i\n",
    "print(maxn)"
   ]
  },
  {
   "cell_type": "code",
   "execution_count": null,
   "id": "08d0c962-75d3-4d78-8983-ab3f49aa773f",
   "metadata": {},
   "outputs": [],
   "source": [
    "# Recursion\n",
    "\n",
    "def maxN(l, number):\n",
    "\n",
    "    for i in l:\n",
    "        if i > number:\n",
    "            return maxN(l, i)\n",
    "    return number"
   ]
  },
  {
   "cell_type": "code",
   "execution_count": null,
   "id": "583d835a-c6f4-4aa9-a242-44c4c854689e",
   "metadata": {},
   "outputs": [],
   "source": [
    "l = [11, 20, 10, 4, 90]\n",
    "\n",
    "maxN(l, l[0])"
   ]
  },
  {
   "cell_type": "markdown",
   "id": "700d7f13-ec2f-4701-8561-f5037ba9101e",
   "metadata": {},
   "source": [
    "# 12] Sum of even number"
   ]
  },
  {
   "cell_type": "code",
   "execution_count": null,
   "id": "bd54a313-ba88-49d1-a40f-cd02a04e9051",
   "metadata": {},
   "outputs": [],
   "source": [
    "l = range(0, 5, 2)\n",
    "new_l = 0\n",
    "for i in l:\n",
    "    new_l = new_l + i\n",
    "print(new_l)"
   ]
  },
  {
   "cell_type": "code",
   "execution_count": null,
   "id": "34a777dd-cb15-4bcc-b5e2-b094ed955963",
   "metadata": {},
   "outputs": [],
   "source": [
    "l = range(0, 101)\n",
    "new_l = 0\n",
    "for i in l:\n",
    "    if i%2 == 0:\n",
    "        new_l = new_l + i\n",
    "print(new_l)"
   ]
  },
  {
   "cell_type": "code",
   "execution_count": null,
   "id": "d40cf697-6c13-4cd4-b1cb-1453207396fa",
   "metadata": {},
   "outputs": [],
   "source": [
    "for i in range(1, 101):\n",
    "\n",
    "    if i%3 == 0 and i%5 == 0:\n",
    "        print('FizzBuzz')\n",
    "    elif i%3 == 0:\n",
    "        print('Fizz')\n",
    "    elif i%5 == 0:\n",
    "        print('Buzz')\n",
    "    else:\n",
    "        print(i)"
   ]
  },
  {
   "cell_type": "markdown",
   "id": "219d1d79-44a5-45df-9541-a7674fb8cc92",
   "metadata": {},
   "source": [
    "# 2] Project - Hangman Game"
   ]
  },
  {
   "cell_type": "code",
   "execution_count": 9,
   "id": "697475eb-4829-4d5b-affa-7594845ddd4e",
   "metadata": {},
   "outputs": [
    {
     "name": "stdin",
     "output_type": "stream",
     "text": [
      "Enter your guess letter e\n"
     ]
    },
    {
     "name": "stdout",
     "output_type": "stream",
     "text": [
      "Incorrect guess, try again..\n",
      "3 - Chances remaining\n"
     ]
    },
    {
     "name": "stdin",
     "output_type": "stream",
     "text": [
      "Enter your guess letter k\n"
     ]
    },
    {
     "name": "stdout",
     "output_type": "stream",
     "text": [
      "['-', 'k']\n",
      "Right guess, next letter..\n"
     ]
    },
    {
     "name": "stdin",
     "output_type": "stream",
     "text": [
      "Enter your guess letter o\n"
     ]
    },
    {
     "name": "stdout",
     "output_type": "stream",
     "text": [
      "['o', 'k']\n",
      "You won!!\n",
      "ok\n",
      "Game Over..\n"
     ]
    }
   ],
   "source": [
    "word = 'ok'\n",
    "new_word = []\n",
    "\n",
    "for i in word:\n",
    "    new_word.append(i)\n",
    "\n",
    "guess_word = ['-']*len(new_word)\n",
    "chances = len(new_word) + len(new_word)\n",
    "\n",
    "for i in range(chances):\n",
    "    u = str(input('Enter your guess letter').lower())\n",
    "    \n",
    "    used_words = []\n",
    "    used_words.append(u)\n",
    "    \n",
    "    if u in new_word:\n",
    "        a = new_word.index(u)\n",
    "        guess_word[a] = new_word[a]\n",
    "        print(guess_word)\n",
    "        if guess_word == new_word:\n",
    "            print('You won!!')\n",
    "            break\n",
    "        print('Right guess, next letter..')\n",
    "\n",
    "    elif u not in new_word:\n",
    "        chances = chances - 1\n",
    "        print(f'Incorrect guess, try again..')\n",
    "        print(f'{chances} - Chances remaining')\n",
    "\n",
    "        if chances == 0:\n",
    "            print('You have used all your guesses, you lost...')\n",
    "            break\n",
    "\n",
    "print(word)\n",
    "print('Game Over..')"
   ]
  },
  {
   "cell_type": "code",
   "execution_count": null,
   "id": "3412e193-b5ae-41ec-a754-fef5bbf015dd",
   "metadata": {},
   "outputs": [
    {
     "name": "stdin",
     "output_type": "stream",
     "text": [
      "Guess a word p\n"
     ]
    },
    {
     "name": "stdout",
     "output_type": "stream",
     "text": [
      "Incorrect guess, you have 17 chances remaining\n"
     ]
    },
    {
     "name": "stdin",
     "output_type": "stream",
     "text": [
      "Guess a word b\n"
     ]
    },
    {
     "name": "stdout",
     "output_type": "stream",
     "text": [
      "Guessed correct letter, please enter next\n",
      "['b', '-', '-', '-', '-', '-', '-', '-', '-']\n"
     ]
    },
    {
     "name": "stdin",
     "output_type": "stream",
     "text": [
      "Guess a word \n"
     ]
    },
    {
     "name": "stdout",
     "output_type": "stream",
     "text": [
      "Incorrect guess, you have 16 chances remaining\n"
     ]
    },
    {
     "name": "stdin",
     "output_type": "stream",
     "text": [
      "Guess a word a\n"
     ]
    },
    {
     "name": "stdout",
     "output_type": "stream",
     "text": [
      "Guessed correct letter, please enter next\n",
      "['b', '-', 'a', '-', '-', '-', '-', '-', '-']\n"
     ]
    },
    {
     "name": "stdin",
     "output_type": "stream",
     "text": [
      "Guess a word u\n"
     ]
    },
    {
     "name": "stdout",
     "output_type": "stream",
     "text": [
      "Guessed correct letter, please enter next\n",
      "['b', '-', 'a', 'u', '-', '-', '-', '-', '-']\n"
     ]
    },
    {
     "name": "stdin",
     "output_type": "stream",
     "text": [
      "Guess a word t\n"
     ]
    },
    {
     "name": "stdout",
     "output_type": "stream",
     "text": [
      "Guessed correct letter, please enter next\n",
      "['b', '-', 'a', 'u', 't', '-', '-', '-', '-']\n"
     ]
    },
    {
     "name": "stdin",
     "output_type": "stream",
     "text": [
      "Guess a word i\n"
     ]
    },
    {
     "name": "stdout",
     "output_type": "stream",
     "text": [
      "Guessed correct letter, please enter next\n",
      "['b', '-', 'a', 'u', 't', 'i', '-', '-', '-']\n"
     ]
    },
    {
     "name": "stdin",
     "output_type": "stream",
     "text": [
      "Guess a word f\n"
     ]
    },
    {
     "name": "stdout",
     "output_type": "stream",
     "text": [
      "Guessed correct letter, please enter next\n",
      "['b', '-', 'a', 'u', 't', 'i', 'f', '-', '-']\n"
     ]
    },
    {
     "name": "stdin",
     "output_type": "stream",
     "text": [
      "Guess a word u\n"
     ]
    },
    {
     "name": "stdout",
     "output_type": "stream",
     "text": [
      "Guessed correct letter, please enter next\n",
      "['b', '-', 'a', 'u', 't', 'i', 'f', '-', '-']\n"
     ]
    },
    {
     "name": "stdin",
     "output_type": "stream",
     "text": [
      "Guess a word l\n"
     ]
    },
    {
     "name": "stdout",
     "output_type": "stream",
     "text": [
      "Guessed correct letter, please enter next\n",
      "['b', '-', 'a', 'u', 't', 'i', 'f', '-', 'l']\n"
     ]
    },
    {
     "name": "stdin",
     "output_type": "stream",
     "text": [
      "Guess a word e\n"
     ]
    },
    {
     "name": "stdout",
     "output_type": "stream",
     "text": [
      "Guessed correct letter, please enter next\n",
      "['b', 'e', 'a', 'u', 't', 'i', 'f', '-', 'l']\n"
     ]
    },
    {
     "name": "stdin",
     "output_type": "stream",
     "text": [
      "Guess a word u\n"
     ]
    },
    {
     "name": "stdout",
     "output_type": "stream",
     "text": [
      "Guessed correct letter, please enter next\n",
      "['b', 'e', 'a', 'u', 't', 'i', 'f', '-', 'l']\n"
     ]
    },
    {
     "name": "stdin",
     "output_type": "stream",
     "text": [
      "Guess a word u\n"
     ]
    },
    {
     "name": "stdout",
     "output_type": "stream",
     "text": [
      "Guessed correct letter, please enter next\n",
      "['b', 'e', 'a', 'u', 't', 'i', 'f', '-', 'l']\n"
     ]
    },
    {
     "name": "stdin",
     "output_type": "stream",
     "text": [
      "Guess a word f\n"
     ]
    },
    {
     "name": "stdout",
     "output_type": "stream",
     "text": [
      "Guessed correct letter, please enter next\n",
      "['b', 'e', 'a', 'u', 't', 'i', 'f', '-', 'l']\n"
     ]
    },
    {
     "name": "stdin",
     "output_type": "stream",
     "text": [
      "Guess a word \n"
     ]
    },
    {
     "name": "stdout",
     "output_type": "stream",
     "text": [
      "Incorrect guess, you have 15 chances remaining\n"
     ]
    },
    {
     "name": "stdin",
     "output_type": "stream",
     "text": [
      "Guess a word x\n"
     ]
    },
    {
     "name": "stdout",
     "output_type": "stream",
     "text": [
      "Incorrect guess, you have 14 chances remaining\n"
     ]
    },
    {
     "name": "stdin",
     "output_type": "stream",
     "text": [
      "Guess a word x\n"
     ]
    },
    {
     "name": "stdout",
     "output_type": "stream",
     "text": [
      "Incorrect guess, you have 13 chances remaining\n"
     ]
    }
   ],
   "source": [
    "import random\n",
    "import time\n",
    "\n",
    "words = ['jumble', 'beautiful', 'potato', 'tomato']\n",
    "word = random.choice(words)\n",
    "new_word = []\n",
    "\n",
    "for i in word:\n",
    "    new_word.append(i)\n",
    "\n",
    "guess_word = ['-']*len(new_word)\n",
    "\n",
    "chances = len(new_word)+len(new_word)\n",
    "\n",
    "for i in range(0, chances+1):\n",
    "    time.sleep(1)\n",
    "    u = input('Guess a word')\n",
    "    \n",
    "    if u in new_word:\n",
    "        a = new_word.index(u)\n",
    "        guess_word[a] = new_word[a]\n",
    "        print('Guessed correct letter, please enter next')\n",
    "        print(guess_word)\n",
    "        if guess_word == new_word:\n",
    "            print('You won!!!')\n",
    "            break\n",
    "\n",
    "\n",
    "    elif u not in new_word:\n",
    "        chances = chances - 1\n",
    "        print(f'Incorrect guess, you have {chances} chances remaining')\n",
    "\n",
    "print(new_word)\n",
    "print('Game over')"
   ]
  },
  {
   "cell_type": "markdown",
   "id": "c5f9758e-8c63-4a9b-86bf-e83ff3d8febc",
   "metadata": {},
   "source": [
    "# 13] Can for paint"
   ]
  },
  {
   "cell_type": "code",
   "execution_count": 14,
   "id": "16ae5c04-78b4-4a16-9710-f45c7fc163fa",
   "metadata": {},
   "outputs": [],
   "source": [
    "import math\n",
    "def cans(height, weight, coverage):\n",
    "    can = (height*weight) / coverage\n",
    "    return math.ceil(can)"
   ]
  },
  {
   "cell_type": "code",
   "execution_count": 16,
   "id": "f6d43c98-eb21-4416-8423-b75d623d3215",
   "metadata": {},
   "outputs": [
    {
     "name": "stdin",
     "output_type": "stream",
     "text": [
      "Enter height :  3\n",
      "Enter weight :  4\n"
     ]
    },
    {
     "data": {
      "text/plain": [
       "2"
      ]
     },
     "execution_count": 16,
     "metadata": {},
     "output_type": "execute_result"
    }
   ],
   "source": [
    "h = int(input('Enter height : ')) # keyword arguments, pass in any order, where order is important that is positional arguments\n",
    "w = int(input('Enter weight : '))\n",
    "coverage = 7\n",
    "\n",
    "cans(height=h, weight=w, coverage=coverage)"
   ]
  },
  {
   "cell_type": "markdown",
   "id": "65005dc9-f0ce-4983-9a6d-d5944f7fec46",
   "metadata": {},
   "source": [
    "# 14] Prime number"
   ]
  },
  {
   "cell_type": "code",
   "execution_count": 64,
   "id": "3075481a-f5ba-4824-a098-bc7e2f78faf4",
   "metadata": {},
   "outputs": [],
   "source": [
    "import math\n",
    "def prime():\n",
    "    \n",
    "\n",
    "    number = int(input('Enter a number to check if prime or not : '))\n",
    "    if number < 2:\n",
    "        return 'Not a prime number'\n",
    "    \n",
    "    if number > 1:\n",
    "        \n",
    "        for i in range(2, math.ceil(number/2)+1):\n",
    "            if number%i == 0:\n",
    "                return f'{number} is not a prime number'\n",
    "            else:\n",
    "                return f'{number} is a prime number'"
   ]
  },
  {
   "cell_type": "code",
   "execution_count": 65,
   "id": "e89e57c7-69f2-48e2-b440-8885c8a25379",
   "metadata": {},
   "outputs": [
    {
     "name": "stdin",
     "output_type": "stream",
     "text": [
      "Enter a number to check if prime or not :  90\n"
     ]
    },
    {
     "data": {
      "text/plain": [
       "'90 is not a prime number'"
      ]
     },
     "execution_count": 65,
     "metadata": {},
     "output_type": "execute_result"
    }
   ],
   "source": [
    "prime()"
   ]
  },
  {
   "cell_type": "markdown",
   "id": "2f2f93f3-8e63-4eaa-b9df-68611e0aaee0",
   "metadata": {},
   "source": [
    "# 14] Marks to Grades "
   ]
  },
  {
   "cell_type": "code",
   "execution_count": 98,
   "id": "e30746fd-1ec6-47cc-864b-8e18f0382d55",
   "metadata": {},
   "outputs": [
    {
     "name": "stdout",
     "output_type": "stream",
     "text": [
      "{'Ronaldo': 'A+', 'Messi': 'A', 'Hemilton': 'B', 'Verstappen': 'D', 'Djokovic': 'C'}\n"
     ]
    }
   ],
   "source": [
    "student_marks = {'Ronaldo' : 90, 'Messi' : 80, 'Hemilton' : 70, 'Verstappen' : 35, 'Djokovic' : 65}\n",
    "student_grades = {}\n",
    "\n",
    "for student in student_marks:\n",
    "    marks = student_marks[student]\n",
    "    if marks >= 90:\n",
    "        student_grades[student] = 'A+'\n",
    "        \n",
    "    elif marks >= 80:\n",
    "        student_grades[student] = 'A'\n",
    "\n",
    "    elif marks >= 70:\n",
    "        student_grades[student] = 'B'\n",
    "\n",
    "    elif marks >= 60:\n",
    "        student_grades[student] = 'C'\n",
    "\n",
    "    elif marks >= 35:\n",
    "        student_grades[student] = 'D'\n",
    "\n",
    "    elif marks < 35:\n",
    "        student_grades[student] = 'E'\n",
    "\n",
    "print(student_grades)"
   ]
  },
  {
   "cell_type": "markdown",
   "id": "84b134e3-1152-4fee-a547-2f13b02262fe",
   "metadata": {},
   "source": [
    "# Adding to list{dict} \n",
    "* To understand dictionary"
   ]
  },
  {
   "cell_type": "code",
   "execution_count": 6,
   "id": "372c6e19-e31a-4284-89c5-13ade9c871e2",
   "metadata": {},
   "outputs": [],
   "source": [
    "student_details = [{'Name' : 'X', 'Roll No' : 32}, {'Name' : 'Y', 'Roll no' : 10}]\n",
    "new = {'Name' : 'A', 'Roll no' : 25}\n",
    "new2 = {'Name' : 'B', 'Roll no' : 8}\n",
    "student_details.append(new)\n",
    "student_details.append(new2)"
   ]
  },
  {
   "cell_type": "code",
   "execution_count": 7,
   "id": "bd14d6ad-991f-4213-b67b-118e257055cb",
   "metadata": {},
   "outputs": [
    {
     "name": "stdout",
     "output_type": "stream",
     "text": [
      "X\n",
      "Y\n",
      "A\n",
      "B\n"
     ]
    }
   ],
   "source": [
    "for i in range(len(student_details)):\n",
    "    print(student_details[i]['Name'])"
   ]
  },
  {
   "cell_type": "code",
   "execution_count": 8,
   "id": "bb5da703-4435-4ca2-b278-cac29284ed51",
   "metadata": {},
   "outputs": [
    {
     "data": {
      "text/plain": [
       "'X'"
      ]
     },
     "execution_count": 8,
     "metadata": {},
     "output_type": "execute_result"
    }
   ],
   "source": [
    "student_details[0]['Name']"
   ]
  },
  {
   "cell_type": "code",
   "execution_count": 9,
   "id": "a34d0966-7fc9-4855-bb36-ac80f065809d",
   "metadata": {},
   "outputs": [],
   "source": [
    "def new_entry(name, roll_no):\n",
    "    new = {'Name' : name, 'Roll no' : roll_no}\n",
    "    student_details.append(new)\n",
    "    return student_details"
   ]
  },
  {
   "cell_type": "code",
   "execution_count": 10,
   "id": "4e102ff4-aae6-431c-97e5-503079fdb253",
   "metadata": {},
   "outputs": [
    {
     "data": {
      "text/plain": [
       "[{'Name': 'X', 'Roll No': 32},\n",
       " {'Name': 'Y', 'Roll no': 10},\n",
       " {'Name': 'A', 'Roll no': 25},\n",
       " {'Name': 'B', 'Roll no': 8},\n",
       " {'Name': 'Bro', 'Roll no': 5}]"
      ]
     },
     "execution_count": 10,
     "metadata": {},
     "output_type": "execute_result"
    }
   ],
   "source": [
    "new_entry('Bro', 5)"
   ]
  },
  {
   "cell_type": "code",
   "execution_count": null,
   "id": "4e32f459-9664-465a-a32e-fcd549b6604e",
   "metadata": {},
   "outputs": [],
   "source": []
  }
 ],
 "metadata": {
  "kernelspec": {
   "display_name": "Python 3 (ipykernel)",
   "language": "python",
   "name": "python3"
  },
  "language_info": {
   "codemirror_mode": {
    "name": "ipython",
    "version": 3
   },
   "file_extension": ".py",
   "mimetype": "text/x-python",
   "name": "python",
   "nbconvert_exporter": "python",
   "pygments_lexer": "ipython3",
   "version": "3.10.12"
  }
 },
 "nbformat": 4,
 "nbformat_minor": 5
}
